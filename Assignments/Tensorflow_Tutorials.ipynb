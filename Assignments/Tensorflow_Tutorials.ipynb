{
 "cells": [
  {
   "cell_type": "markdown",
   "metadata": {
    "colab_type": "text",
    "id": "4embtkV0pNxM"
   },
   "source": [
    "Deep Learning\n",
    "=============\n",
    "\n",
    "Assignment 4\n",
    "------------\n",
    "\n",
    "Previously in `2_fullyconnected.ipynb` and `3_regularization.ipynb`, we trained fully connected networks to classify [notMNIST](http://yaroslavvb.blogspot.com/2011/09/notmnist-dataset.html) characters.\n",
    "\n",
    "The goal of this assignment is make the neural network convolutional."
   ]
  },
  {
   "cell_type": "code",
   "execution_count": 1,
   "metadata": {
    "cellView": "both",
    "colab": {
     "autoexec": {
      "startup": false,
      "wait_interval": 0
     }
    },
    "colab_type": "code",
    "collapsed": true,
    "id": "tm2CQN_Cpwj0"
   },
   "outputs": [],
   "source": [
    "# These are all the modules we'll be using later. Make sure you can import them\n",
    "# before proceeding further.\n",
    "from __future__ import print_function\n",
    "import numpy as np\n",
    "import tensorflow as tf\n",
    "from six.moves import cPickle as pickle\n",
    "from six.moves import range"
   ]
  },
  {
   "cell_type": "code",
   "execution_count": 2,
   "metadata": {
    "cellView": "both",
    "colab": {
     "autoexec": {
      "startup": false,
      "wait_interval": 0
     },
     "output_extras": [
      {
       "item_id": 1
      }
     ]
    },
    "colab_type": "code",
    "collapsed": false,
    "executionInfo": {
     "elapsed": 11948,
     "status": "ok",
     "timestamp": 1446658914837,
     "user": {
      "color": "",
      "displayName": "",
      "isAnonymous": false,
      "isMe": true,
      "permissionId": "",
      "photoUrl": "",
      "sessionId": "0",
      "userId": ""
     },
     "user_tz": 480
    },
    "id": "y3-cj1bpmuxc",
    "outputId": "016b1a51-0290-4b08-efdb-8c95ffc3cd01"
   },
   "outputs": [
    {
     "name": "stdout",
     "output_type": "stream",
     "text": [
      "Training set (200000, 28, 28) (200000,)\n",
      "Validation set (10000, 28, 28) (10000,)\n",
      "Test set (10000, 28, 28) (10000,)\n"
     ]
    }
   ],
   "source": [
    "pickle_file = 'notMNIST.pickle'\n",
    "\n",
    "with open(pickle_file, 'rb') as f:\n",
    "    save = pickle.load(f)\n",
    "    train_dataset = save['train_dataset']\n",
    "    train_labels = save['train_labels']\n",
    "    valid_dataset = save['valid_dataset']\n",
    "    valid_labels = save['valid_labels']\n",
    "    test_dataset = save['test_dataset']\n",
    "    test_labels = save['test_labels']\n",
    "    del save  # hint to help gc free up memory\n",
    "    print('Training set', train_dataset.shape, train_labels.shape)\n",
    "    print('Validation set', valid_dataset.shape, valid_labels.shape)\n",
    "    print('Test set', test_dataset.shape, test_labels.shape)"
   ]
  },
  {
   "cell_type": "markdown",
   "metadata": {
    "colab_type": "text",
    "id": "L7aHrm6nGDMB"
   },
   "source": [
    "Reformat into a TensorFlow-friendly shape:\n",
    "- convolutions need the image data formatted as a cube (width by height by #channels)\n",
    "- labels as float 1-hot encodings."
   ]
  },
  {
   "cell_type": "code",
   "execution_count": 3,
   "metadata": {
    "cellView": "both",
    "colab": {
     "autoexec": {
      "startup": false,
      "wait_interval": 0
     },
     "output_extras": [
      {
       "item_id": 1
      }
     ]
    },
    "colab_type": "code",
    "collapsed": false,
    "executionInfo": {
     "elapsed": 11952,
     "status": "ok",
     "timestamp": 1446658914857,
     "user": {
      "color": "",
      "displayName": "",
      "isAnonymous": false,
      "isMe": true,
      "permissionId": "",
      "photoUrl": "",
      "sessionId": "0",
      "userId": ""
     },
     "user_tz": 480
    },
    "id": "IRSyYiIIGIzS",
    "outputId": "650a208c-8359-4852-f4f5-8bf10e80ef6c"
   },
   "outputs": [
    {
     "name": "stdout",
     "output_type": "stream",
     "text": [
      "Training set (200000, 28, 28, 1) (200000, 10)\n",
      "Validation set (10000, 28, 28, 1) (10000, 10)\n",
      "Test set (10000, 28, 28, 1) (10000, 10)\n"
     ]
    }
   ],
   "source": [
    "image_size = 28\n",
    "num_labels = 10\n",
    "num_channels = 1 # grayscale\n",
    "\n",
    "import numpy as np\n",
    "\n",
    "def reformat(dataset, labels):\n",
    "    dataset = dataset.reshape(\n",
    "        (-1, image_size, image_size, num_channels)).astype(np.float32)\n",
    "    labels = (np.arange(num_labels) == labels[:,None]).astype(np.float32)\n",
    "    return dataset, labels\n",
    "train_dataset, train_labels = reformat(train_dataset, train_labels)\n",
    "valid_dataset, valid_labels = reformat(valid_dataset, valid_labels)\n",
    "test_dataset, test_labels = reformat(test_dataset, test_labels)\n",
    "print('Training set', train_dataset.shape, train_labels.shape)\n",
    "print('Validation set', valid_dataset.shape, valid_labels.shape)\n",
    "print('Test set', test_dataset.shape, test_labels.shape)"
   ]
  },
  {
   "cell_type": "code",
   "execution_count": 13,
   "metadata": {
    "cellView": "both",
    "colab": {
     "autoexec": {
      "startup": false,
      "wait_interval": 0
     }
    },
    "colab_type": "code",
    "collapsed": true,
    "id": "AgQDIREv02p1"
   },
   "outputs": [],
   "source": [
    "def accuracy(predictions, labels):\n",
    "    return (100.0 * np.sum(np.argmax(predictions, 1) == np.argmax(labels, 1))\n",
    "            / predictions.shape[0])"
   ]
  },
  {
   "cell_type": "markdown",
   "metadata": {
    "colab_type": "text",
    "id": "5rhgjmROXu2O"
   },
   "source": [
    "Let's build a small network with two convolutional layers, followed by one fully connected layer. Convolutional networks are more expensive computationally, so we'll limit its depth and number of fully connected nodes."
   ]
  },
  {
   "cell_type": "code",
   "execution_count": 16,
   "metadata": {
    "cellView": "both",
    "colab": {
     "autoexec": {
      "startup": false,
      "wait_interval": 0
     }
    },
    "colab_type": "code",
    "collapsed": true,
    "id": "IZYv70SvvOan"
   },
   "outputs": [],
   "source": [
    "batch_size = 16\n",
    "patch_size = 5\n",
    "depth = 16\n",
    "num_hidden = 64\n",
    "\n",
    "graph = tf.Graph()\n",
    "\n",
    "with graph.as_default():\n",
    "\n",
    "    # Input data.\n",
    "    tf_train_dataset = tf.placeholder(\n",
    "    tf.float32, shape=(batch_size, image_size, image_size, num_channels))\n",
    "    tf_train_labels = tf.placeholder(tf.float32, shape=(batch_size, num_labels))\n",
    "    tf_valid_dataset = tf.constant(valid_dataset)\n",
    "    tf_test_dataset = tf.constant(test_dataset)\n",
    "\n",
    "    # Variables.\n",
    "    layer1_weights = tf.Variable(tf.truncated_normal(\n",
    "            [patch_size, patch_size, num_channels, depth], stddev=0.1))\n",
    "    layer1_biases = tf.Variable(tf.zeros([depth]))\n",
    "    layer2_weights = tf.Variable(tf.truncated_normal(\n",
    "            [patch_size, patch_size, depth, depth], stddev=0.1))\n",
    "    layer2_biases = tf.Variable(tf.constant(1.0, shape=[depth]))\n",
    "    layer3_weights = tf.Variable(tf.truncated_normal(\n",
    "            [image_size // 4 * image_size // 4 * depth, num_hidden], stddev=0.1))\n",
    "    layer3_biases = tf.Variable(tf.constant(1.0, shape=[num_hidden]))\n",
    "    layer4_weights = tf.Variable(tf.truncated_normal(\n",
    "            [num_hidden, num_labels], stddev=0.1))\n",
    "    layer4_biases = tf.Variable(tf.constant(1.0, shape=[num_labels]))\n",
    "  \n",
    "    # Model.\n",
    "    def model(data):\n",
    "        conv = tf.nn.conv2d(data, layer1_weights, [1, 2, 2, 1], padding='SAME')\n",
    "        hidden = tf.nn.relu(conv + layer1_biases)\n",
    "        conv = tf.nn.conv2d(hidden, layer2_weights, [1, 2, 2, 1], padding='SAME')\n",
    "        hidden = tf.nn.relu(conv + layer2_biases)\n",
    "        shape = hidden.get_shape().as_list()\n",
    "        reshape = tf.reshape(hidden, [shape[0], shape[1] * shape[2] * shape[3]])\n",
    "        hidden = tf.nn.relu(tf.matmul(reshape, layer3_weights) + layer3_biases)\n",
    "        return tf.matmul(hidden, layer4_weights) + layer4_biases\n",
    "\n",
    "    # Training computation.\n",
    "    logits = model(tf_train_dataset)\n",
    "    loss = tf.reduce_mean(\n",
    "    tf.nn.softmax_cross_entropy_with_logits(logits, tf_train_labels))\n",
    "\n",
    "    # Optimizer.\n",
    "    optimizer = tf.train.GradientDescentOptimizer(0.05).minimize(loss)\n",
    "\n",
    "    # Predictions for the training, validation, and test data.\n",
    "    train_prediction = tf.nn.softmax(logits)\n",
    "    valid_prediction = tf.nn.softmax(model(tf_valid_dataset))\n",
    "    test_prediction = tf.nn.softmax(model(tf_test_dataset))"
   ]
  },
  {
   "cell_type": "code",
   "execution_count": 17,
   "metadata": {
    "cellView": "both",
    "colab": {
     "autoexec": {
      "startup": false,
      "wait_interval": 0
     },
     "output_extras": [
      {
       "item_id": 37
      }
     ]
    },
    "colab_type": "code",
    "collapsed": false,
    "executionInfo": {
     "elapsed": 63292,
     "status": "ok",
     "timestamp": 1446658966251,
     "user": {
      "color": "",
      "displayName": "",
      "isAnonymous": false,
      "isMe": true,
      "permissionId": "",
      "photoUrl": "",
      "sessionId": "0",
      "userId": ""
     },
     "user_tz": 480
    },
    "id": "noKFb2UovVFR",
    "outputId": "28941338-2ef9-4088-8bd1-44295661e628"
   },
   "outputs": [
    {
     "name": "stdout",
     "output_type": "stream",
     "text": [
      "Initialized\n",
      "Minibatch loss at step 0: 3.376161\n",
      "Minibatch accuracy: 6.2%\n",
      "Validation accuracy: 9.0%\n",
      "Minibatch loss at step 50: 2.034088\n",
      "Minibatch accuracy: 31.2%\n",
      "Validation accuracy: 43.1%\n",
      "Minibatch loss at step 100: 0.985778\n",
      "Minibatch accuracy: 68.8%\n",
      "Validation accuracy: 63.2%\n",
      "Minibatch loss at step 150: 1.225320\n",
      "Minibatch accuracy: 75.0%\n",
      "Validation accuracy: 73.9%\n",
      "Minibatch loss at step 200: 0.856515\n",
      "Minibatch accuracy: 68.8%\n",
      "Validation accuracy: 77.4%\n",
      "Minibatch loss at step 250: 0.846469\n",
      "Minibatch accuracy: 62.5%\n",
      "Validation accuracy: 76.9%\n",
      "Minibatch loss at step 300: 0.535842\n",
      "Minibatch accuracy: 81.2%\n",
      "Validation accuracy: 79.0%\n",
      "Minibatch loss at step 350: 0.911263\n",
      "Minibatch accuracy: 68.8%\n",
      "Validation accuracy: 79.0%\n",
      "Minibatch loss at step 400: 0.967623\n",
      "Minibatch accuracy: 75.0%\n",
      "Validation accuracy: 78.8%\n",
      "Minibatch loss at step 450: 0.491029\n",
      "Minibatch accuracy: 81.2%\n",
      "Validation accuracy: 81.7%\n",
      "Minibatch loss at step 500: 0.627737\n",
      "Minibatch accuracy: 81.2%\n",
      "Validation accuracy: 80.4%\n",
      "Minibatch loss at step 550: 0.737501\n",
      "Minibatch accuracy: 81.2%\n",
      "Validation accuracy: 81.6%\n",
      "Minibatch loss at step 600: 0.722776\n",
      "Minibatch accuracy: 87.5%\n",
      "Validation accuracy: 82.0%\n",
      "Minibatch loss at step 650: 0.685756\n",
      "Minibatch accuracy: 81.2%\n",
      "Validation accuracy: 82.2%\n",
      "Minibatch loss at step 700: 0.737696\n",
      "Minibatch accuracy: 75.0%\n",
      "Validation accuracy: 82.0%\n",
      "Minibatch loss at step 750: 0.741323\n",
      "Minibatch accuracy: 81.2%\n",
      "Validation accuracy: 82.8%\n",
      "Minibatch loss at step 800: 0.363455\n",
      "Minibatch accuracy: 87.5%\n",
      "Validation accuracy: 83.0%\n",
      "Minibatch loss at step 850: 1.048870\n",
      "Minibatch accuracy: 75.0%\n",
      "Validation accuracy: 82.4%\n",
      "Minibatch loss at step 900: 0.042253\n",
      "Minibatch accuracy: 100.0%\n",
      "Validation accuracy: 83.2%\n",
      "Minibatch loss at step 950: 1.120676\n",
      "Minibatch accuracy: 68.8%\n",
      "Validation accuracy: 82.8%\n",
      "Minibatch loss at step 1000: 0.152695\n",
      "Minibatch accuracy: 93.8%\n",
      "Validation accuracy: 82.3%\n",
      "Test accuracy: 88.6%\n"
     ]
    }
   ],
   "source": [
    "num_steps = 1001\n",
    "\n",
    "with tf.Session(graph=graph) as session:\n",
    "  tf.initialize_all_variables().run()\n",
    "  print('Initialized')\n",
    "  for step in range(num_steps):\n",
    "    offset = (step * batch_size) % (train_labels.shape[0] - batch_size)\n",
    "    batch_data = train_dataset[offset:(offset + batch_size), :, :, :]\n",
    "    batch_labels = train_labels[offset:(offset + batch_size), :]\n",
    "    feed_dict = {tf_train_dataset : batch_data, tf_train_labels : batch_labels}\n",
    "    _, l, predictions = session.run(\n",
    "      [optimizer, loss, train_prediction], feed_dict=feed_dict)\n",
    "    if (step % 50 == 0):\n",
    "      print('Minibatch loss at step %d: %f' % (step, l))\n",
    "      print('Minibatch accuracy: %.1f%%' % accuracy(predictions, batch_labels))\n",
    "      print('Validation accuracy: %.1f%%' % accuracy(\n",
    "        valid_prediction.eval(), valid_labels))\n",
    "  print('Test accuracy: %.1f%%' % accuracy(test_prediction.eval(), test_labels))"
   ]
  },
  {
   "cell_type": "markdown",
   "metadata": {
    "colab_type": "text",
    "id": "KedKkn4EutIK"
   },
   "source": [
    "---\n",
    "Problem 1\n",
    "---------\n",
    "\n",
    "The convolutional model above uses convolutions with stride 2 to reduce the dimensionality. Replace the strides by a max pooling operation (`nn.max_pool()`) of stride 2 and kernel size 2.\n",
    "\n",
    "---"
   ]
  },
  {
   "cell_type": "code",
   "execution_count": 18,
   "metadata": {
    "collapsed": true
   },
   "outputs": [],
   "source": [
    "batch_size = 16\n",
    "patch_size = 5\n",
    "depth = 16\n",
    "num_hidden = 64\n",
    "\n",
    "graph = tf.Graph()\n",
    "\n",
    "with graph.as_default():\n",
    "\n",
    "    # Input data.\n",
    "    tf_train_dataset = tf.placeholder(\n",
    "    tf.float32, shape=(batch_size, image_size, image_size, num_channels))\n",
    "    tf_train_labels = tf.placeholder(tf.float32, shape=(batch_size, num_labels))\n",
    "    tf_valid_dataset = tf.constant(valid_dataset)\n",
    "    tf_test_dataset = tf.constant(test_dataset)\n",
    "\n",
    "    # Variables.\n",
    "    layer1_weights = tf.Variable(tf.truncated_normal(\n",
    "            [patch_size, patch_size, num_channels, depth], stddev=0.1))\n",
    "    layer1_biases = tf.Variable(tf.zeros([depth]))\n",
    "    layer2_weights = tf.Variable(tf.truncated_normal(\n",
    "            [patch_size, patch_size, depth, depth], stddev=0.1))\n",
    "    layer2_biases = tf.Variable(tf.constant(1.0, shape=[depth]))\n",
    "    layer3_weights = tf.Variable(tf.truncated_normal(\n",
    "            [image_size // 4 * image_size // 4 * depth, num_hidden], stddev=0.1))\n",
    "    layer3_biases = tf.Variable(tf.constant(1.0, shape=[num_hidden]))\n",
    "    layer4_weights = tf.Variable(tf.truncated_normal(\n",
    "            [num_hidden, num_labels], stddev=0.1))\n",
    "    layer4_biases = tf.Variable(tf.constant(1.0, shape=[num_labels]))\n",
    "  \n",
    "    # Model.\n",
    "    def model(data):\n",
    "        conv = tf.nn.conv2d(data, layer1_weights, [1, 1, 1, 1], padding='SAME')\n",
    "        hidden = tf.nn.relu(conv + layer1_biases)\n",
    "        hidden = tf.nn.max_pool(hidden, ksize=[1, 2, 2, 1], strides=[1, 2, 2, 1],\n",
    "                                padding='SAME')\n",
    "        conv = tf.nn.conv2d(hidden, layer2_weights, [1, 1, 1, 1], padding='SAME')\n",
    "        hidden = tf.nn.relu(conv + layer2_biases)\n",
    "        hidden = tf.nn.max_pool(hidden, ksize=[1, 2, 2, 1], strides=[1, 2, 2, 1],\n",
    "                                padding='SAME')\n",
    "        shape = hidden.get_shape().as_list()\n",
    "        reshape = tf.reshape(hidden, [shape[0], shape[1] * shape[2] * shape[3]])\n",
    "        hidden = tf.nn.relu(tf.matmul(reshape, layer3_weights) + layer3_biases)\n",
    "        return tf.matmul(hidden, layer4_weights) + layer4_biases\n",
    "\n",
    "    # Training computation.\n",
    "    logits = model(tf_train_dataset)\n",
    "    loss = tf.reduce_mean(\n",
    "    tf.nn.softmax_cross_entropy_with_logits(logits, tf_train_labels))\n",
    "\n",
    "    # Optimizer.\n",
    "    optimizer = tf.train.GradientDescentOptimizer(0.05).minimize(loss)\n",
    "\n",
    "    # Predictions for the training, validation, and test data.\n",
    "    train_prediction = tf.nn.softmax(logits)\n",
    "    valid_prediction = tf.nn.softmax(model(tf_valid_dataset))\n",
    "    test_prediction = tf.nn.softmax(model(tf_test_dataset))"
   ]
  },
  {
   "cell_type": "code",
   "execution_count": 19,
   "metadata": {
    "collapsed": false
   },
   "outputs": [
    {
     "name": "stdout",
     "output_type": "stream",
     "text": [
      "Initialized\n",
      "Minibatch loss at step 0: 2.962266\n",
      "Minibatch accuracy: 12.5%\n",
      "Validation accuracy: 10.0%\n",
      "Minibatch loss at step 50: 2.225925\n",
      "Minibatch accuracy: 18.8%\n",
      "Validation accuracy: 10.0%\n",
      "Minibatch loss at step 100: 1.833439\n",
      "Minibatch accuracy: 25.0%\n",
      "Validation accuracy: 42.0%\n",
      "Minibatch loss at step 150: 1.628520\n",
      "Minibatch accuracy: 56.2%\n",
      "Validation accuracy: 60.2%\n",
      "Minibatch loss at step 200: 0.789304\n",
      "Minibatch accuracy: 81.2%\n",
      "Validation accuracy: 75.0%\n",
      "Minibatch loss at step 250: 0.832132\n",
      "Minibatch accuracy: 81.2%\n",
      "Validation accuracy: 77.2%\n",
      "Minibatch loss at step 300: 0.466263\n",
      "Minibatch accuracy: 87.5%\n",
      "Validation accuracy: 79.5%\n",
      "Minibatch loss at step 350: 0.850434\n",
      "Minibatch accuracy: 75.0%\n",
      "Validation accuracy: 78.8%\n",
      "Minibatch loss at step 400: 1.233523\n",
      "Minibatch accuracy: 62.5%\n",
      "Validation accuracy: 78.4%\n",
      "Minibatch loss at step 450: 0.517089\n",
      "Minibatch accuracy: 81.2%\n",
      "Validation accuracy: 82.4%\n",
      "Minibatch loss at step 500: 0.601813\n",
      "Minibatch accuracy: 87.5%\n",
      "Validation accuracy: 82.5%\n",
      "Minibatch loss at step 550: 0.810523\n",
      "Minibatch accuracy: 81.2%\n",
      "Validation accuracy: 82.3%\n",
      "Minibatch loss at step 600: 0.599342\n",
      "Minibatch accuracy: 81.2%\n",
      "Validation accuracy: 83.3%\n",
      "Minibatch loss at step 650: 0.660861\n",
      "Minibatch accuracy: 81.2%\n",
      "Validation accuracy: 83.2%\n",
      "Minibatch loss at step 700: 0.671488\n",
      "Minibatch accuracy: 75.0%\n",
      "Validation accuracy: 83.2%\n",
      "Minibatch loss at step 750: 0.772934\n",
      "Minibatch accuracy: 81.2%\n",
      "Validation accuracy: 83.8%\n",
      "Minibatch loss at step 800: 0.376455\n",
      "Minibatch accuracy: 87.5%\n",
      "Validation accuracy: 83.8%\n",
      "Minibatch loss at step 850: 1.050796\n",
      "Minibatch accuracy: 75.0%\n",
      "Validation accuracy: 83.2%\n",
      "Minibatch loss at step 900: 0.032144\n",
      "Minibatch accuracy: 100.0%\n",
      "Validation accuracy: 84.7%\n",
      "Minibatch loss at step 950: 0.739691\n",
      "Minibatch accuracy: 68.8%\n",
      "Validation accuracy: 84.2%\n",
      "Minibatch loss at step 1000: 0.393179\n",
      "Minibatch accuracy: 93.8%\n",
      "Validation accuracy: 83.8%\n",
      "Test accuracy: 89.7%\n"
     ]
    }
   ],
   "source": [
    "num_steps = 1001\n",
    "\n",
    "with tf.Session(graph=graph) as session:\n",
    "  tf.initialize_all_variables().run()\n",
    "  print('Initialized')\n",
    "  for step in range(num_steps):\n",
    "    offset = (step * batch_size) % (train_labels.shape[0] - batch_size)\n",
    "    batch_data = train_dataset[offset:(offset + batch_size), :, :, :]\n",
    "    batch_labels = train_labels[offset:(offset + batch_size), :]\n",
    "    feed_dict = {tf_train_dataset : batch_data, tf_train_labels : batch_labels}\n",
    "    _, l, predictions = session.run(\n",
    "      [optimizer, loss, train_prediction], feed_dict=feed_dict)\n",
    "    if (step % 50 == 0):\n",
    "      print('Minibatch loss at step %d: %f' % (step, l))\n",
    "      print('Minibatch accuracy: %.1f%%' % accuracy(predictions, batch_labels))\n",
    "      print('Validation accuracy: %.1f%%' % accuracy(\n",
    "        valid_prediction.eval(), valid_labels))\n",
    "  print('Test accuracy: %.1f%%' % accuracy(test_prediction.eval(), test_labels))"
   ]
  },
  {
   "cell_type": "markdown",
   "metadata": {
    "colab_type": "text",
    "id": "klf21gpbAgb-"
   },
   "source": [
    "---\n",
    "Problem 2\n",
    "---------\n",
    "\n",
    "Try to get the best performance you can using a convolutional net. Look for example at the classic [LeNet5](http://yann.lecun.com/exdb/lenet/) architecture, adding Dropout, and/or adding learning rate decay.\n",
    "\n",
    "---"
   ]
  },
  {
   "cell_type": "markdown",
   "metadata": {},
   "source": [
    "Solution\n",
    "----\n",
    "Note: The codes are refectored to make them more manageable similar to the one given [here](https://github.com/aymericdamien/TensorFlow-Examples/blob/master/examples/3_NeuralNetworks/convolutional_network.py)"
   ]
  },
  {
   "cell_type": "code",
   "execution_count": 15,
   "metadata": {
    "collapsed": true
   },
   "outputs": [],
   "source": [
    "# Parameters\n",
    "image_size=28\n",
    "num_channels = 1\n",
    "batch_size = 16\n",
    "patch_size = 5\n",
    "learning_rate = 0.05\n",
    "num_steps = 1001\n",
    "display_step = 50\n",
    "#depth = 16\n",
    "#num_hidden = 64\n",
    "\n",
    "# Network Parameters\n",
    "#n_inputs = image_size**2 # 784\n",
    "n_classes = 10 # Number of output classes (A-J)\n",
    "dropout = 1.0  # Dropout for regularization\n",
    "\n",
    "# Tensorflow Graph Input\n",
    "x = tf.placeholder(tf.float32, shape=[None, image_size, image_size, num_channels])\n",
    "#x = tf.placeholder(tf.float32, [None, n_inputs])\n",
    "y = tf.placeholder(tf.float32, [None, n_classes])\n",
    "keep_prob = tf.placeholder(tf.float32) #dropout (keep probability)"
   ]
  },
  {
   "cell_type": "code",
   "execution_count": 16,
   "metadata": {
    "collapsed": true
   },
   "outputs": [],
   "source": [
    "#Weights and Biases\n",
    "# weights = {\n",
    "#     # 5x5 conv, 1 input, 32 outputs\n",
    "#     'wc1': tf.Variable(tf.truncated_normal([patch_size, patch_size, num_channels, 32])),\n",
    "#     # 5x5 conv, 32 inputs, 64 outputs\n",
    "#     'wc2': tf.Variable(tf.truncated_normal([patch_size, patch_size, 32, 64])),\n",
    "#     # fully connected, 7*7*64 inputs, 1024 outputs\n",
    "#     'wf1': tf.Variable(tf.truncated_normal([(image_size//4)*(image_size//4)*64, 1024])),\n",
    "#     # 1024 inputs, 10 outputs (class prediction)\n",
    "#     'out': tf.Variable(tf.truncated_normal([1024, n_classes]))\n",
    "# }\n",
    "# biases = {\n",
    "#     'bc1': tf.Variable(tf.truncated_normal([32])),\n",
    "#     'bc2': tf.Variable(tf.truncated_normal([64])),\n",
    "#     'bf1': tf.Variable(tf.truncated_normal([1024])),\n",
    "#     'out': tf.Variable(tf.truncated_normal([n_classes]))\n",
    "# }\n",
    "\n",
    "weights = {\n",
    "    # 5x5 conv, 1 input, 32 outputs\n",
    "    'wc1': tf.Variable(tf.truncated_normal([patch_size, patch_size, num_channels, 16])),\n",
    "    # 5x5 conv, 32 inputs, 64 outputs\n",
    "    'wc2': tf.Variable(tf.truncated_normal([patch_size, patch_size, 16, 16])),\n",
    "    # fully connected, 7*7*64 inputs, 1024 outputs\n",
    "    'wf1': tf.Variable(tf.truncated_normal([(image_size//4)*(image_size//4)*16, 64])),\n",
    "    # 1024 inputs, 10 outputs (class prediction)\n",
    "    'out': tf.Variable(tf.truncated_normal([64, n_classes]))\n",
    "}\n",
    "\n",
    "biases = {\n",
    "    'bc1': tf.Variable(tf.truncated_normal([16])),\n",
    "    'bc2': tf.Variable(tf.truncated_normal([16])),\n",
    "    'bf1': tf.Variable(tf.truncated_normal([64])),\n",
    "    'out': tf.Variable(tf.truncated_normal([n_classes]))\n",
    "}"
   ]
  },
  {
   "cell_type": "markdown",
   "metadata": {},
   "source": [
    "Create functions for simplicity"
   ]
  },
  {
   "cell_type": "code",
   "execution_count": 17,
   "metadata": {
    "collapsed": true
   },
   "outputs": [],
   "source": [
    "def conv2d(x, W, b, strides=1):\n",
    "    \"\"\"Computes a convolutional layer with relu\"\"\"\n",
    "    conv = tf.nn.conv2d(x, W, strides=[1, strides, strides, 1], padding='SAME')\n",
    "    conv = tf.nn.relu(conv + b)\n",
    "    return conv\n",
    "\n",
    "def maxpool2d(x, k=2):\n",
    "    \"\"\"Applies a max pooling of size k (maxPool2D) to a given data.\"\"\"\n",
    "    max_pool = tf.nn.max_pool(x, ksize=[1, k, k, 1], strides=[1, k, k, 1],\n",
    "                              padding='SAME')\n",
    "    return max_pool"
   ]
  },
  {
   "cell_type": "markdown",
   "metadata": {},
   "source": [
    "The function below creates a conv_net model."
   ]
  },
  {
   "cell_type": "code",
   "execution_count": 18,
   "metadata": {
    "collapsed": true
   },
   "outputs": [],
   "source": [
    "def conv_net_model(data, weights, biases, dropout):\n",
    "    \"\"\"Creates a convolutional networks model and returns its outputs\"\"\"\n",
    "    # Reshape the input image if not already done.\n",
    "    #data = tf.reshape(data, shape=[-1, image_size, image_size, num_channels])\n",
    "\n",
    "    ## 1. Convolutional Layer\n",
    "    conv1 = conv2d(data, weights['wc1'], biases['bc1'])\n",
    "    # Max Pooling (For down-sampling)\n",
    "    conv1 = maxpool2d(conv1)\n",
    "    \n",
    "    ## 2. Convolutional Layer\n",
    "    conv2 = conv2d(conv1, weights['wc2'], biases['bc2'])\n",
    "    # Max Pooling (For down-sampling)\n",
    "    conv2 = maxpool2d(conv2)\n",
    "    \n",
    "    ## 3. Fully Connected Layer\n",
    "    # Reshape conv2 to fit fully connected layer input\n",
    "    fc1 = tf.reshape(conv2, shape=[-1, weights['wf1'].get_shape().as_list()[0]])\n",
    "    # Multiply with the given weights and add the biases\n",
    "    fc1 = tf.add(tf.matmul(fc1, weights['wf1']), biases['bf1'])\n",
    "    # Apply relu\n",
    "    fc1 = tf.nn.relu(fc1)\n",
    "    # Apply Dropout for regularization (Dropouts are applied during training only)\n",
    "    fc1 = tf.nn.dropout(fc1, dropout)\n",
    "    \n",
    "    # Output Layer, For Class Prediction\n",
    "    out = tf.add(tf.matmul(fc1, weights['out']), biases['out'])\n",
    "    \n",
    "    return out"
   ]
  },
  {
   "cell_type": "markdown",
   "metadata": {},
   "source": [
    "Let's now construct our model"
   ]
  },
  {
   "cell_type": "code",
   "execution_count": 19,
   "metadata": {
    "collapsed": false
   },
   "outputs": [],
   "source": [
    "# Construct the model\n",
    "predictions = conv_net_model(x, weights, biases, keep_prob)\n",
    "\n",
    "# Define the loss and optimizer\n",
    "loss = tf.reduce_mean(tf.nn.softmax_cross_entropy_with_logits(predictions, y))\n",
    "optimizer = tf.train.GradientDescentOptimizer(learning_rate).minimize(loss)\n",
    "\n",
    "# Evaluate the model\n",
    "correct_pred = tf.equal(tf.arg_max(predictions, 1), tf.arg_max(y, 1))\n",
    "accuracy = tf.reduce_mean(tf.cast(correct_pred, tf.float32))*100.0\n",
    "\n",
    "# Initialize the variables\n",
    "init = tf.initialize_all_variables()"
   ]
  },
  {
   "cell_type": "markdown",
   "metadata": {},
   "source": [
    "Now, we will launch the graph as follows."
   ]
  },
  {
   "cell_type": "code",
   "execution_count": 21,
   "metadata": {
    "collapsed": false
   },
   "outputs": [
    {
     "name": "stdout",
     "output_type": "stream",
     "text": [
      "Optimization Finished!\n",
      "Test accuracy: 10.0%\n"
     ]
    }
   ],
   "source": [
    "with tf.Session() as session:\n",
    "    session.run(init)\n",
    "    for step in range(num_steps):\n",
    "        offset = (step * batch_size) % (train_labels.shape[0] - batch_size)\n",
    "        batch_x = train_dataset[offset:(offset + batch_size), :, :, :]\n",
    "        batch_y = train_labels[offset:(offset + batch_size), :]\n",
    "        # Run optimization op (backprop)\n",
    "        feed_dict = {x : batch_x, y : batch_y, keep_prob : dropout}\n",
    "        session.run(optimizer, feed_dict=feed_dict)\n",
    "#         if (step % display_step == 0):\n",
    "#             # Calculate batch loss and accuracy (here, dropout = 1.0)\n",
    "#             feed_dict = {x : batch_x, y : batch_y, keep_prob : 1.0}\n",
    "#             loss, acc = session.run([loss, accuracy], feed_dict=feed_dict)\n",
    "#             print('Minibatch loss at step %d: %f' % (step, loss))\n",
    "#             print('Minibatch accuracy: %.1f%%' % acc)\n",
    "#             #Accuracy for Validation Set\n",
    "#             acc = session.run(accuracy, feed_dict={x: valid_dataset, y: valid_labels,\n",
    "#                                                   keep_prob: 1.0})\n",
    "#             print('Validation accuracy: %.1f%%' % acc)\n",
    "\n",
    "    print(\"Optimization Finished!\")\n",
    "    #Accuracy for Test Set\n",
    "    acc = session.run(accuracy, feed_dict={x: test_dataset, y: test_labels,\n",
    "                                          keep_prob: 1.0})\n",
    "    print('Test accuracy: %.1f%%' % acc)"
   ]
  },
  {
   "cell_type": "code",
   "execution_count": 22,
   "metadata": {
    "collapsed": false
   },
   "outputs": [
    {
     "name": "stdout",
     "output_type": "stream",
     "text": [
      "Extracting /tmp/data/train-images-idx3-ubyte.gz\n",
      "Extracting /tmp/data/train-labels-idx1-ubyte.gz\n",
      "Extracting /tmp/data/t10k-images-idx3-ubyte.gz\n",
      "Extracting /tmp/data/t10k-labels-idx1-ubyte.gz\n"
     ]
    }
   ],
   "source": [
    "from __future__ import print_function\n",
    "\n",
    "import tensorflow as tf\n",
    "\n",
    "# Import MNIST data\n",
    "from tensorflow.examples.tutorials.mnist import input_data\n",
    "mnist = input_data.read_data_sets(\"/tmp/data/\", one_hot=True)"
   ]
  },
  {
   "cell_type": "code",
   "execution_count": 31,
   "metadata": {
    "collapsed": false
   },
   "outputs": [
    {
     "data": {
      "text/plain": [
       "tensorflow.contrib.learn.python.learn.datasets.mnist.DataSet"
      ]
     },
     "execution_count": 31,
     "metadata": {},
     "output_type": "execute_result"
    }
   ],
   "source": [
    "mnist.train.images.shape[0]/batch_size, mnist.train.labels.shape\n",
    "type(mnist.train)\n"
   ]
  },
  {
   "cell_type": "code",
   "execution_count": 26,
   "metadata": {
    "collapsed": true
   },
   "outputs": [],
   "source": [
    "# Parameters\n",
    "learning_rate = 0.001\n",
    "training_iters = 200000\n",
    "batch_size = 128\n",
    "display_step = 10\n",
    "\n",
    "# Network Parameters\n",
    "n_input = 784 # MNIST data input (img shape: 28*28)\n",
    "n_classes = 10 # MNIST total classes (0-9 digits)\n",
    "dropout = 0.75 # Dropout, probability to keep units\n",
    "\n",
    "# tf Graph input\n",
    "x = tf.placeholder(tf.float32, [None, n_input])\n",
    "y = tf.placeholder(tf.float32, [None, n_classes])\n",
    "keep_prob = tf.placeholder(tf.float32) #dropout (keep probability)\n",
    "\n",
    "\n",
    "# Create some wrappers for simplicity\n",
    "def conv2d(x, W, b, strides=1):\n",
    "    # Conv2D wrapper, with bias and relu activation\n",
    "    x = tf.nn.conv2d(x, W, strides=[1, strides, strides, 1], padding='SAME')\n",
    "    x = tf.nn.bias_add(x, b)\n",
    "    return tf.nn.relu(x)\n",
    "\n",
    "\n",
    "def maxpool2d(x, k=2):\n",
    "    # MaxPool2D wrapper\n",
    "    return tf.nn.max_pool(x, ksize=[1, k, k, 1], strides=[1, k, k, 1],\n",
    "                          padding='SAME')\n",
    "\n"
   ]
  },
  {
   "cell_type": "code",
   "execution_count": 27,
   "metadata": {
    "collapsed": true
   },
   "outputs": [],
   "source": [
    "# Create model\n",
    "def conv_net(x, weights, biases, dropout):\n",
    "    # Reshape input picture\n",
    "    x = tf.reshape(x, shape=[-1, 28, 28, 1])\n",
    "\n",
    "    # Convolution Layer\n",
    "    conv1 = conv2d(x, weights['wc1'], biases['bc1'])\n",
    "    # Max Pooling (down-sampling)\n",
    "    conv1 = maxpool2d(conv1, k=2)\n",
    "\n",
    "    # Convolution Layer\n",
    "    conv2 = conv2d(conv1, weights['wc2'], biases['bc2'])\n",
    "    # Max Pooling (down-sampling)\n",
    "    conv2 = maxpool2d(conv2, k=2)\n",
    "\n",
    "    # Fully connected layer\n",
    "    # Reshape conv2 output to fit fully connected layer input\n",
    "    fc1 = tf.reshape(conv2, [-1, weights['wd1'].get_shape().as_list()[0]])\n",
    "    fc1 = tf.add(tf.matmul(fc1, weights['wd1']), biases['bd1'])\n",
    "    fc1 = tf.nn.relu(fc1)\n",
    "    # Apply Dropout\n",
    "    fc1 = tf.nn.dropout(fc1, dropout)\n",
    "\n",
    "    # Output, class prediction\n",
    "    out = tf.add(tf.matmul(fc1, weights['out']), biases['out'])\n",
    "    return out"
   ]
  },
  {
   "cell_type": "code",
   "execution_count": 28,
   "metadata": {
    "collapsed": true
   },
   "outputs": [],
   "source": [
    "# Store layers weight & bias\n",
    "weights = {\n",
    "    # 5x5 conv, 1 input, 32 outputs\n",
    "    'wc1': tf.Variable(tf.random_normal([5, 5, 1, 32])),\n",
    "    # 5x5 conv, 32 inputs, 64 outputs\n",
    "    'wc2': tf.Variable(tf.random_normal([5, 5, 32, 64])),\n",
    "    # fully connected, 7*7*64 inputs, 1024 outputs\n",
    "    'wd1': tf.Variable(tf.random_normal([7*7*64, 1024])),\n",
    "    # 1024 inputs, 10 outputs (class prediction)\n",
    "    'out': tf.Variable(tf.random_normal([1024, n_classes]))\n",
    "}\n",
    "\n",
    "biases = {\n",
    "    'bc1': tf.Variable(tf.random_normal([32])),\n",
    "    'bc2': tf.Variable(tf.random_normal([64])),\n",
    "    'bd1': tf.Variable(tf.random_normal([1024])),\n",
    "    'out': tf.Variable(tf.random_normal([n_classes]))\n",
    "}\n",
    "\n",
    "# Construct model\n",
    "pred = conv_net(x, weights, biases, keep_prob)\n",
    "\n",
    "# Define loss and optimizer\n",
    "cost = tf.reduce_mean(tf.nn.softmax_cross_entropy_with_logits(pred, y))\n",
    "optimizer = tf.train.AdamOptimizer(learning_rate=learning_rate).minimize(cost)\n",
    "\n",
    "# Evaluate model\n",
    "correct_pred = tf.equal(tf.argmax(pred, 1), tf.argmax(y, 1))\n",
    "accuracy = tf.reduce_mean(tf.cast(correct_pred, tf.float32))"
   ]
  },
  {
   "cell_type": "code",
   "execution_count": 29,
   "metadata": {
    "collapsed": false
   },
   "outputs": [
    {
     "name": "stdout",
     "output_type": "stream",
     "text": [
      "Iter 1280, Minibatch Loss= 31373.187500, Training Accuracy= 0.35156\n",
      "Iter 2560, Minibatch Loss= 12991.867188, Training Accuracy= 0.46875\n",
      "Iter 3840, Minibatch Loss= 11733.712891, Training Accuracy= 0.53906\n",
      "Iter 5120, Minibatch Loss= 5963.323242, Training Accuracy= 0.69531\n",
      "Iter 6400, Minibatch Loss= 4516.456055, Training Accuracy= 0.77344\n",
      "Iter 7680, Minibatch Loss= 7360.002930, Training Accuracy= 0.71875\n",
      "Iter 8960, Minibatch Loss= 3374.771973, Training Accuracy= 0.79688\n",
      "Iter 10240, Minibatch Loss= 2715.493652, Training Accuracy= 0.84375\n",
      "Iter 11520, Minibatch Loss= 1496.087891, Training Accuracy= 0.88281\n",
      "Iter 12800, Minibatch Loss= 3973.423584, Training Accuracy= 0.79688\n",
      "Iter 14080, Minibatch Loss= 2097.506592, Training Accuracy= 0.88281\n",
      "Iter 15360, Minibatch Loss= 2225.569092, Training Accuracy= 0.89844\n",
      "Iter 16640, Minibatch Loss= 3045.694824, Training Accuracy= 0.84375\n",
      "Iter 17920, Minibatch Loss= 848.955994, Training Accuracy= 0.92188\n",
      "Iter 19200, Minibatch Loss= 1184.372192, Training Accuracy= 0.90625\n",
      "Iter 20480, Minibatch Loss= 747.213501, Training Accuracy= 0.94531\n",
      "Iter 21760, Minibatch Loss= 3214.538330, Training Accuracy= 0.83594\n",
      "Iter 23040, Minibatch Loss= 1072.616943, Training Accuracy= 0.95312\n",
      "Iter 24320, Minibatch Loss= 2203.904785, Training Accuracy= 0.88281\n",
      "Iter 25600, Minibatch Loss= 1890.295410, Training Accuracy= 0.88281\n",
      "Iter 26880, Minibatch Loss= 835.838440, Training Accuracy= 0.92188\n",
      "Iter 28160, Minibatch Loss= 1157.529907, Training Accuracy= 0.89062\n",
      "Iter 29440, Minibatch Loss= 1642.574097, Training Accuracy= 0.91406\n",
      "Iter 30720, Minibatch Loss= 1134.444946, Training Accuracy= 0.90625\n",
      "Iter 32000, Minibatch Loss= 949.120667, Training Accuracy= 0.92969\n",
      "Iter 33280, Minibatch Loss= 632.775269, Training Accuracy= 0.89844\n",
      "Iter 34560, Minibatch Loss= 694.819336, Training Accuracy= 0.93750\n",
      "Iter 35840, Minibatch Loss= 796.348145, Training Accuracy= 0.96094\n",
      "Iter 37120, Minibatch Loss= 1055.728760, Training Accuracy= 0.92188\n",
      "Iter 38400, Minibatch Loss= 453.709656, Training Accuracy= 0.95312\n",
      "Iter 39680, Minibatch Loss= 555.123657, Training Accuracy= 0.95312\n",
      "Iter 40960, Minibatch Loss= 1567.355469, Training Accuracy= 0.89062\n",
      "Iter 42240, Minibatch Loss= 820.273193, Training Accuracy= 0.92969\n",
      "Iter 43520, Minibatch Loss= 557.762329, Training Accuracy= 0.94531\n",
      "Iter 44800, Minibatch Loss= 641.998291, Training Accuracy= 0.94531\n",
      "Iter 46080, Minibatch Loss= 387.930969, Training Accuracy= 0.94531\n",
      "Iter 47360, Minibatch Loss= 1835.260742, Training Accuracy= 0.92188\n",
      "Iter 48640, Minibatch Loss= 1521.074219, Training Accuracy= 0.91406\n",
      "Iter 49920, Minibatch Loss= 932.048828, Training Accuracy= 0.92969\n",
      "Iter 51200, Minibatch Loss= 323.163452, Training Accuracy= 0.94531\n",
      "Iter 52480, Minibatch Loss= 353.947083, Training Accuracy= 0.97656\n",
      "Iter 53760, Minibatch Loss= 153.600143, Training Accuracy= 0.97656\n",
      "Iter 55040, Minibatch Loss= 1389.977173, Training Accuracy= 0.89844\n",
      "Iter 56320, Minibatch Loss= 284.850281, Training Accuracy= 0.95312\n",
      "Iter 57600, Minibatch Loss= 556.772644, Training Accuracy= 0.95312\n",
      "Iter 58880, Minibatch Loss= 627.801086, Training Accuracy= 0.96875\n",
      "Iter 60160, Minibatch Loss= 308.773193, Training Accuracy= 0.96875\n",
      "Iter 61440, Minibatch Loss= 98.533203, Training Accuracy= 0.98438\n",
      "Iter 62720, Minibatch Loss= 1179.955933, Training Accuracy= 0.92188\n",
      "Iter 64000, Minibatch Loss= 972.783936, Training Accuracy= 0.96094\n",
      "Iter 65280, Minibatch Loss= 441.864410, Training Accuracy= 0.96094\n",
      "Iter 66560, Minibatch Loss= 831.121338, Training Accuracy= 0.95312\n",
      "Iter 67840, Minibatch Loss= 445.762085, Training Accuracy= 0.92969\n",
      "Iter 69120, Minibatch Loss= 182.212875, Training Accuracy= 0.98438\n",
      "Iter 70400, Minibatch Loss= 1032.454346, Training Accuracy= 0.91406\n",
      "Iter 71680, Minibatch Loss= 205.296829, Training Accuracy= 0.95312\n",
      "Iter 72960, Minibatch Loss= 1067.505371, Training Accuracy= 0.92188\n",
      "Iter 74240, Minibatch Loss= 496.780579, Training Accuracy= 0.96094\n",
      "Iter 75520, Minibatch Loss= 592.051636, Training Accuracy= 0.93750\n",
      "Iter 76800, Minibatch Loss= 482.333130, Training Accuracy= 0.97656\n",
      "Iter 78080, Minibatch Loss= 585.380859, Training Accuracy= 0.96094\n",
      "Iter 79360, Minibatch Loss= 81.044769, Training Accuracy= 0.99219\n",
      "Iter 80640, Minibatch Loss= 387.740112, Training Accuracy= 0.96094\n",
      "Iter 81920, Minibatch Loss= 398.365234, Training Accuracy= 0.96875\n",
      "Iter 83200, Minibatch Loss= 738.511475, Training Accuracy= 0.92969\n",
      "Iter 84480, Minibatch Loss= 222.960617, Training Accuracy= 0.96875\n",
      "Iter 85760, Minibatch Loss= 1038.231689, Training Accuracy= 0.89844\n",
      "Iter 87040, Minibatch Loss= 947.261169, Training Accuracy= 0.94531\n",
      "Iter 88320, Minibatch Loss= 899.827087, Training Accuracy= 0.93750\n",
      "Iter 89600, Minibatch Loss= 261.061584, Training Accuracy= 0.97656\n",
      "Iter 90880, Minibatch Loss= 74.805786, Training Accuracy= 0.98438\n",
      "Iter 92160, Minibatch Loss= 56.620308, Training Accuracy= 0.98438\n",
      "Iter 93440, Minibatch Loss= 212.550308, Training Accuracy= 0.97656\n",
      "Iter 94720, Minibatch Loss= 717.447266, Training Accuracy= 0.92969\n",
      "Iter 96000, Minibatch Loss= 514.288086, Training Accuracy= 0.95312\n",
      "Iter 97280, Minibatch Loss= 42.903149, Training Accuracy= 0.97656\n",
      "Iter 98560, Minibatch Loss= 815.187805, Training Accuracy= 0.93750\n",
      "Iter 99840, Minibatch Loss= 380.209991, Training Accuracy= 0.96875\n",
      "Iter 101120, Minibatch Loss= 738.574158, Training Accuracy= 0.94531\n",
      "Iter 102400, Minibatch Loss= 20.689743, Training Accuracy= 0.99219\n",
      "Iter 103680, Minibatch Loss= 500.271301, Training Accuracy= 0.96094\n",
      "Iter 104960, Minibatch Loss= 168.586670, Training Accuracy= 0.96875\n",
      "Iter 106240, Minibatch Loss= 332.578369, Training Accuracy= 0.96094\n",
      "Iter 107520, Minibatch Loss= 201.880280, Training Accuracy= 0.96875\n",
      "Iter 108800, Minibatch Loss= 425.838257, Training Accuracy= 0.94531\n",
      "Iter 110080, Minibatch Loss= 328.159607, Training Accuracy= 0.97656\n",
      "Iter 111360, Minibatch Loss= 578.309143, Training Accuracy= 0.96094\n",
      "Iter 112640, Minibatch Loss= 234.028748, Training Accuracy= 0.96094\n",
      "Iter 113920, Minibatch Loss= 313.820129, Training Accuracy= 0.95312\n",
      "Iter 115200, Minibatch Loss= 265.441467, Training Accuracy= 0.97656\n",
      "Iter 116480, Minibatch Loss= 220.541245, Training Accuracy= 0.96094\n",
      "Iter 117760, Minibatch Loss= 95.836868, Training Accuracy= 0.99219\n",
      "Iter 119040, Minibatch Loss= 189.791046, Training Accuracy= 0.97656\n",
      "Iter 120320, Minibatch Loss= 280.006958, Training Accuracy= 0.96094\n",
      "Iter 121600, Minibatch Loss= 420.803375, Training Accuracy= 0.96875\n",
      "Iter 122880, Minibatch Loss= 191.458557, Training Accuracy= 0.99219\n",
      "Iter 124160, Minibatch Loss= 129.025955, Training Accuracy= 0.96875\n",
      "Iter 125440, Minibatch Loss= 121.976257, Training Accuracy= 0.97656\n",
      "Iter 126720, Minibatch Loss= 223.014526, Training Accuracy= 0.97656\n",
      "Iter 128000, Minibatch Loss= 933.541321, Training Accuracy= 0.95312\n",
      "Iter 129280, Minibatch Loss= 553.625427, Training Accuracy= 0.96094\n",
      "Iter 130560, Minibatch Loss= 286.209229, Training Accuracy= 0.96094\n",
      "Iter 131840, Minibatch Loss= 122.337654, Training Accuracy= 0.98438\n",
      "Iter 133120, Minibatch Loss= 321.603180, Training Accuracy= 0.96094\n",
      "Iter 134400, Minibatch Loss= 215.493073, Training Accuracy= 0.97656\n",
      "Iter 135680, Minibatch Loss= 344.396545, Training Accuracy= 0.98438\n",
      "Iter 136960, Minibatch Loss= 32.501450, Training Accuracy= 0.98438\n",
      "Iter 138240, Minibatch Loss= 127.002609, Training Accuracy= 0.98438\n",
      "Iter 139520, Minibatch Loss= 97.589973, Training Accuracy= 0.98438\n",
      "Iter 140800, Minibatch Loss= 115.847946, Training Accuracy= 0.98438\n",
      "Iter 142080, Minibatch Loss= 188.407120, Training Accuracy= 0.97656\n",
      "Iter 143360, Minibatch Loss= 333.843719, Training Accuracy= 0.95312\n",
      "Iter 144640, Minibatch Loss= 230.056793, Training Accuracy= 0.96094\n",
      "Iter 145920, Minibatch Loss= 238.695923, Training Accuracy= 0.96875\n",
      "Iter 147200, Minibatch Loss= 243.924652, Training Accuracy= 0.98438\n",
      "Iter 148480, Minibatch Loss= 393.983032, Training Accuracy= 0.96875\n",
      "Iter 149760, Minibatch Loss= 334.327911, Training Accuracy= 0.96875\n",
      "Iter 151040, Minibatch Loss= 87.314461, Training Accuracy= 0.98438\n",
      "Iter 152320, Minibatch Loss= 441.859314, Training Accuracy= 0.95312\n",
      "Iter 153600, Minibatch Loss= 23.101273, Training Accuracy= 0.98438\n",
      "Iter 154880, Minibatch Loss= 57.246277, Training Accuracy= 0.99219\n",
      "Iter 156160, Minibatch Loss= 589.656616, Training Accuracy= 0.96875\n",
      "Iter 157440, Minibatch Loss= 438.645111, Training Accuracy= 0.96094\n",
      "Iter 158720, Minibatch Loss= 348.051331, Training Accuracy= 0.93750\n",
      "Iter 160000, Minibatch Loss= 170.673523, Training Accuracy= 0.97656\n",
      "Iter 161280, Minibatch Loss= 166.636169, Training Accuracy= 0.96875\n",
      "Iter 162560, Minibatch Loss= 584.665527, Training Accuracy= 0.93750\n",
      "Iter 163840, Minibatch Loss= 104.055389, Training Accuracy= 0.98438\n",
      "Iter 165120, Minibatch Loss= 149.265793, Training Accuracy= 0.96875\n",
      "Iter 166400, Minibatch Loss= 246.193848, Training Accuracy= 0.95312\n",
      "Iter 167680, Minibatch Loss= 547.935303, Training Accuracy= 0.95312\n",
      "Iter 168960, Minibatch Loss= 111.885765, Training Accuracy= 0.98438\n",
      "Iter 170240, Minibatch Loss= 459.519653, Training Accuracy= 0.96875\n",
      "Iter 171520, Minibatch Loss= 917.382568, Training Accuracy= 0.96094\n",
      "Iter 172800, Minibatch Loss= 363.317200, Training Accuracy= 0.94531\n",
      "Iter 174080, Minibatch Loss= 91.334602, Training Accuracy= 0.96875\n",
      "Iter 175360, Minibatch Loss= 272.088531, Training Accuracy= 0.98438\n",
      "Iter 176640, Minibatch Loss= 249.585983, Training Accuracy= 0.98438\n",
      "Iter 177920, Minibatch Loss= 205.871765, Training Accuracy= 0.96094\n",
      "Iter 179200, Minibatch Loss= 15.182899, Training Accuracy= 0.98438\n",
      "Iter 180480, Minibatch Loss= 193.641525, Training Accuracy= 0.96875\n",
      "Iter 181760, Minibatch Loss= 426.424683, Training Accuracy= 0.94531\n",
      "Iter 183040, Minibatch Loss= 60.339439, Training Accuracy= 0.99219\n",
      "Iter 184320, Minibatch Loss= 58.621841, Training Accuracy= 0.97656\n",
      "Iter 185600, Minibatch Loss= 0.000000, Training Accuracy= 1.00000\n",
      "Iter 186880, Minibatch Loss= 144.827698, Training Accuracy= 0.96875\n",
      "Iter 188160, Minibatch Loss= 170.154175, Training Accuracy= 0.96094\n",
      "Iter 189440, Minibatch Loss= 224.862671, Training Accuracy= 0.96875\n",
      "Iter 190720, Minibatch Loss= 96.674133, Training Accuracy= 0.97656\n",
      "Iter 192000, Minibatch Loss= 71.031555, Training Accuracy= 0.96875\n",
      "Iter 193280, Minibatch Loss= 213.029205, Training Accuracy= 0.96094\n",
      "Iter 194560, Minibatch Loss= 192.532104, Training Accuracy= 0.96875\n",
      "Iter 195840, Minibatch Loss= 245.910614, Training Accuracy= 0.96094\n",
      "Iter 197120, Minibatch Loss= 26.934082, Training Accuracy= 0.98438\n",
      "Iter 198400, Minibatch Loss= 393.549713, Training Accuracy= 0.96094\n",
      "Iter 199680, Minibatch Loss= 47.826653, Training Accuracy= 0.98438\n",
      "Optimization Finished!\n",
      "Testing Accuracy: 0.972656\n"
     ]
    }
   ],
   "source": [
    "# Initializing the variables\n",
    "init = tf.initialize_all_variables()\n",
    "\n",
    "# Launch the graph\n",
    "with tf.Session() as sess:\n",
    "    sess.run(init)\n",
    "    step = 1\n",
    "    # Keep training until reach max iterations\n",
    "    while step * batch_size < training_iters:\n",
    "        batch_x, batch_y = mnist.train.next_batch(batch_size)\n",
    "        # Run optimization op (backprop)\n",
    "        sess.run(optimizer, feed_dict={x: batch_x, y: batch_y,\n",
    "                                       keep_prob: dropout})\n",
    "        if step % display_step == 0:\n",
    "            # Calculate batch loss and accuracy\n",
    "            loss, acc = sess.run([cost, accuracy], feed_dict={x: batch_x,\n",
    "                                                              y: batch_y,\n",
    "                                                              keep_prob: 1.})\n",
    "            print(\"Iter \" + str(step*batch_size) + \", Minibatch Loss= \" + \\\n",
    "                  \"{:.6f}\".format(loss) + \", Training Accuracy= \" + \\\n",
    "                  \"{:.5f}\".format(acc))\n",
    "        step += 1\n",
    "    print(\"Optimization Finished!\")\n",
    "\n",
    "    # Calculate accuracy for 256 mnist test images\n",
    "    print(\"Testing Accuracy:\", \\\n",
    "        sess.run(accuracy, feed_dict={x: mnist.test.images[:256],\n",
    "                                      y: mnist.test.labels[:256],\n",
    "                                      keep_prob: 1.}))"
   ]
  },
  {
   "cell_type": "code",
   "execution_count": null,
   "metadata": {
    "collapsed": true
   },
   "outputs": [],
   "source": []
  },
  {
   "cell_type": "markdown",
   "metadata": {},
   "source": [
    "[Deep MNIST For Experts](https://www.tensorflow.org/versions/r0.11/tutorials/mnist/pros/)"
   ]
  },
  {
   "cell_type": "markdown",
   "metadata": {},
   "source": [
    "What we will accomplish in this tutorial:\n",
    "\n",
    "* Create a softmax regression function that is a model for recognizing MNIST digits, based on looking at every pixel in the image\n",
    "* Use Tensorflow to train the model to recognize digits by having it \"look\" at thousands of examples (and run our first Tensorflow session to do so)\n",
    "* Check the model's accuracy with our test data\n",
    "* Build, train, and test a multilayer convolutional neural network to improve the results"
   ]
  },
  {
   "cell_type": "code",
   "execution_count": 1,
   "metadata": {
    "collapsed": true
   },
   "outputs": [],
   "source": [
    "import tensorflow as tf"
   ]
  },
  {
   "cell_type": "markdown",
   "metadata": {},
   "source": [
    "#### Load MNIST Data"
   ]
  },
  {
   "cell_type": "code",
   "execution_count": 2,
   "metadata": {
    "collapsed": false
   },
   "outputs": [
    {
     "name": "stdout",
     "output_type": "stream",
     "text": [
      "Extracting MNIST_data/train-images-idx3-ubyte.gz\n",
      "Extracting MNIST_data/train-labels-idx1-ubyte.gz\n",
      "Extracting MNIST_data/t10k-images-idx3-ubyte.gz\n",
      "Extracting MNIST_data/t10k-labels-idx1-ubyte.gz\n"
     ]
    }
   ],
   "source": [
    "from tensorflow.examples.tutorials.mnist import input_data\n",
    "mnist = input_data.read_data_sets('MNIST_data', one_hot=True)"
   ]
  },
  {
   "cell_type": "markdown",
   "metadata": {},
   "source": [
    "#### Start TensorFlow InteractiveSession"
   ]
  },
  {
   "cell_type": "code",
   "execution_count": 3,
   "metadata": {
    "collapsed": true
   },
   "outputs": [],
   "source": [
    "sess = tf.InteractiveSession()"
   ]
  },
  {
   "cell_type": "markdown",
   "metadata": {},
   "source": [
    "#### A. Build a Softmax Regression Model"
   ]
  },
  {
   "cell_type": "markdown",
   "metadata": {},
   "source": [
    "* Placeholders"
   ]
  },
  {
   "cell_type": "code",
   "execution_count": 4,
   "metadata": {
    "collapsed": true
   },
   "outputs": [],
   "source": [
    "x = tf.placeholder(tf.float32, shape=[None, 784])\n",
    "y = tf.placeholder(tf.float32, shape=[None, 10])\n",
    "keep_prob = tf.placeholder(tf.float32)"
   ]
  },
  {
   "cell_type": "markdown",
   "metadata": {},
   "source": [
    "* Variables"
   ]
  },
  {
   "cell_type": "code",
   "execution_count": 5,
   "metadata": {
    "collapsed": true
   },
   "outputs": [],
   "source": [
    "W = tf.Variable(tf.truncated_normal([784,10], stddev=0.1))\n",
    "b = tf.Variable(tf.truncated_normal([10], stddev=0.1))\n",
    "\n",
    "sess.run(tf.initialize_all_variables())"
   ]
  },
  {
   "cell_type": "markdown",
   "metadata": {},
   "source": [
    "* Predicted Class and Loss Function"
   ]
  },
  {
   "cell_type": "code",
   "execution_count": 6,
   "metadata": {
    "collapsed": true
   },
   "outputs": [],
   "source": [
    "y_ = tf.matmul(x,W) + b\n",
    "loss = tf.reduce_mean(tf.nn.softmax_cross_entropy_with_logits(y_, y))"
   ]
  },
  {
   "cell_type": "markdown",
   "metadata": {},
   "source": [
    "* Train the Model"
   ]
  },
  {
   "cell_type": "code",
   "execution_count": 10,
   "metadata": {
    "collapsed": false
   },
   "outputs": [],
   "source": [
    "optimizer = tf.train.GradientDescentOptimizer(0.5).minimize(loss)\n",
    "\n",
    "# Training the model is accomplished by repeatedly running the optimizer\n",
    "for i in range(1000):\n",
    "    batch = mnist.train.next_batch(100)\n",
    "    optimizer.run(feed_dict={x: batch[0], y: batch[1]})"
   ]
  },
  {
   "cell_type": "markdown",
   "metadata": {},
   "source": [
    "* Evaluate the Model"
   ]
  },
  {
   "cell_type": "code",
   "execution_count": 11,
   "metadata": {
    "collapsed": false
   },
   "outputs": [
    {
     "name": "stdout",
     "output_type": "stream",
     "text": [
      "0.9189\n"
     ]
    }
   ],
   "source": [
    "correct_prediction = tf.equal(tf.argmax(y_,1), tf.argmax(y,1))\n",
    "accuracy = tf.reduce_mean(tf.cast(correct_prediction, tf.float32))\n",
    "\n",
    "# Compute the accuracy of the model on the test data\n",
    "print(accuracy.eval(feed_dict={x: mnist.test.images, y: mnist.test.labels}))"
   ]
  },
  {
   "cell_type": "markdown",
   "metadata": {},
   "source": [
    "#### B. Build a Multilayer Convolutional Network"
   ]
  },
  {
   "cell_type": "markdown",
   "metadata": {},
   "source": [
    "* Weight and Bias Initialization"
   ]
  },
  {
   "cell_type": "code",
   "execution_count": 5,
   "metadata": {
    "collapsed": true
   },
   "outputs": [],
   "source": [
    "def weight_variable(shape):\n",
    "    initial = tf.truncated_normal(shape, stddev=0.1)\n",
    "    return tf.Variable(initial)\n",
    "\n",
    "def bias_variable(shape):\n",
    "    initial = tf.constant(0.1, shape=shape)\n",
    "    return tf.Variable(initial)"
   ]
  },
  {
   "cell_type": "markdown",
   "metadata": {},
   "source": [
    "* Convolution and Pooling"
   ]
  },
  {
   "cell_type": "code",
   "execution_count": 6,
   "metadata": {
    "collapsed": true
   },
   "outputs": [],
   "source": [
    "def conv2d(x, W, b, strides=1):\n",
    "    # Conv2D wrapper, with bias and relu activation\n",
    "    x = tf.nn.conv2d(x, W, strides=[1, strides, strides, 1], padding='SAME')\n",
    "    x = tf.nn.bias_add(x, b)\n",
    "    return tf.nn.relu(x)\n",
    "\n",
    "def maxpool2d(x, k=2):\n",
    "    # MaxPool2D wrapper\n",
    "    return tf.nn.max_pool(x, ksize=[1, k, k, 1], strides=[1, k, k, 1], padding='SAME')"
   ]
  },
  {
   "cell_type": "markdown",
   "metadata": {},
   "source": [
    "* Construct Model with 2 Convolutional Layers and 1 fully connected layer "
   ]
  },
  {
   "cell_type": "code",
   "execution_count": 7,
   "metadata": {
    "collapsed": true
   },
   "outputs": [],
   "source": [
    "def model(x, weights, biases, dropout):\n",
    "    \n",
    "    # Reshape the input data\n",
    "    x = tf.reshape(x, [-1,28,28,1])\n",
    "    \n",
    "    # 1st convolutional layer\n",
    "    conv1 = conv2d(x, weights['wc1'], biases['bc1'])\n",
    "    # Max Pooling (down-sampling)\n",
    "    conv1 = maxpool2d(conv1, k=2)\n",
    "\n",
    "    # 2nd Convolution Layer\n",
    "    conv2 = conv2d(conv1, weights['wc2'], biases['bc2'])\n",
    "    # Max Pooling (down-sampling)\n",
    "    conv2 = maxpool2d(conv2, k=2)\n",
    "\n",
    "    # Fully connected layer\n",
    "    # Reshape conv2 output to fit fully connected layer input\n",
    "    fc1 = tf.reshape(conv2, [-1, weights['wf1'].get_shape().as_list()[0]])\n",
    "    fc1 = tf.add(tf.matmul(fc1, weights['wf1']), biases['bf1'])\n",
    "    fc1 = tf.nn.relu(fc1)\n",
    "    \n",
    "    # Apply Dropout (To reduce overfitting)\n",
    "    fc1 = tf.nn.dropout(fc1, dropout)\n",
    "\n",
    "    # Readout Layer (for class prediction)\n",
    "    out = tf.add(tf.matmul(fc1, weights['out']), biases['out'])\n",
    "    return out   "
   ]
  },
  {
   "cell_type": "code",
   "execution_count": 8,
   "metadata": {
    "collapsed": false
   },
   "outputs": [],
   "source": [
    "# Store layers weight & bias\n",
    "weights = {\n",
    "    # 5x5 conv, 1 input, 32 outputs\n",
    "    'wc1': weight_variable([5, 5, 1, 32]),\n",
    "    # 5x5 conv, 32 inputs, 64 outputs\n",
    "    'wc2': weight_variable([5, 5, 32, 64]),\n",
    "    # fully connected, 7*7*64 inputs, 1024 outputs\n",
    "    'wf1': weight_variable([7*7*64, 1024]),\n",
    "    # 1024 inputs, 10 outputs (class prediction)\n",
    "    'out': weight_variable([1024, 10])\n",
    "}\n",
    "\n",
    "biases = {\n",
    "    'bc1': bias_variable([32]),\n",
    "    'bc2': bias_variable([64]),\n",
    "    'bf1': bias_variable([1024]),\n",
    "    'out': bias_variable([10])\n",
    "}"
   ]
  },
  {
   "cell_type": "markdown",
   "metadata": {},
   "source": [
    "* Train and Evaluate the Model"
   ]
  },
  {
   "cell_type": "code",
   "execution_count": 9,
   "metadata": {
    "collapsed": true
   },
   "outputs": [],
   "source": [
    "y_ = model(x, weights, biases, keep_prob)\n",
    "\n",
    "loss = tf.reduce_mean(tf.nn.softmax_cross_entropy_with_logits(y_, y))\n",
    "optimizer = tf.train.AdamOptimizer(1e-4).minimize(loss)\n",
    "\n",
    "correct_prediction = tf.equal(tf.argmax(y_,1), tf.argmax(y,1))\n",
    "accuracy = tf.reduce_mean(tf.cast(correct_prediction, tf.float32))\n",
    "\n",
    "sess.run(tf.initialize_all_variables())"
   ]
  },
  {
   "cell_type": "code",
   "execution_count": 11,
   "metadata": {
    "collapsed": false
   },
   "outputs": [
    {
     "ename": "TypeError",
     "evalue": "Fetch argument 4.6305132 has invalid type <type 'numpy.float32'>, must be a string or Tensor. (Can not convert a float32 into a Tensor or Operation.)",
     "output_type": "error",
     "traceback": [
      "\u001b[0;31m---------------------------------------------------------------------------\u001b[0m",
      "\u001b[0;31mTypeError\u001b[0m                                 Traceback (most recent call last)",
      "\u001b[0;32m<ipython-input-11-c1443b8d61f9>\u001b[0m in \u001b[0;36m<module>\u001b[0;34m()\u001b[0m\n\u001b[1;32m      5\u001b[0m \u001b[0;34m\u001b[0m\u001b[0m\n\u001b[1;32m      6\u001b[0m     \u001b[0;32mif\u001b[0m \u001b[0mi\u001b[0m\u001b[0;34m%\u001b[0m\u001b[0;36m100\u001b[0m \u001b[0;34m==\u001b[0m \u001b[0;36m0\u001b[0m\u001b[0;34m:\u001b[0m\u001b[0;34m\u001b[0m\u001b[0m\n\u001b[0;32m----> 7\u001b[0;31m         \u001b[0mloss\u001b[0m\u001b[0;34m,\u001b[0m \u001b[0mtrain_acc\u001b[0m \u001b[0;34m=\u001b[0m \u001b[0msess\u001b[0m\u001b[0;34m.\u001b[0m\u001b[0mrun\u001b[0m\u001b[0;34m(\u001b[0m\u001b[0;34m[\u001b[0m\u001b[0mloss\u001b[0m\u001b[0;34m,\u001b[0m \u001b[0maccuracy\u001b[0m\u001b[0;34m]\u001b[0m\u001b[0;34m,\u001b[0m \u001b[0mfeed_dict\u001b[0m\u001b[0;34m=\u001b[0m\u001b[0;34m{\u001b[0m\u001b[0mx\u001b[0m\u001b[0;34m:\u001b[0m \u001b[0mbatch\u001b[0m\u001b[0;34m[\u001b[0m\u001b[0;36m0\u001b[0m\u001b[0;34m]\u001b[0m\u001b[0;34m,\u001b[0m \u001b[0my\u001b[0m\u001b[0;34m:\u001b[0m \u001b[0mbatch\u001b[0m\u001b[0;34m[\u001b[0m\u001b[0;36m1\u001b[0m\u001b[0;34m]\u001b[0m\u001b[0;34m,\u001b[0m \u001b[0mkeep_prob\u001b[0m\u001b[0;34m:\u001b[0m \u001b[0;36m1.0\u001b[0m\u001b[0;34m}\u001b[0m\u001b[0;34m)\u001b[0m\u001b[0;34m\u001b[0m\u001b[0m\n\u001b[0m\u001b[1;32m      8\u001b[0m         \u001b[0;31m#train_accuracy = accuracy.eval(feed_dict={\u001b[0m\u001b[0;34m\u001b[0m\u001b[0;34m\u001b[0m\u001b[0m\n\u001b[1;32m      9\u001b[0m         \u001b[0;31m#        x:batch[0], y: batch[1], keep_prob: 1.0})\u001b[0m\u001b[0;34m\u001b[0m\u001b[0;34m\u001b[0m\u001b[0m\n",
      "\u001b[0;32m/home/tom/anaconda2/lib/python2.7/site-packages/tensorflow/python/client/session.pyc\u001b[0m in \u001b[0;36mrun\u001b[0;34m(self, fetches, feed_dict, options, run_metadata)\u001b[0m\n\u001b[1;32m    715\u001b[0m     \u001b[0;32mtry\u001b[0m\u001b[0;34m:\u001b[0m\u001b[0;34m\u001b[0m\u001b[0m\n\u001b[1;32m    716\u001b[0m       result = self._run(None, fetches, feed_dict, options_ptr,\n\u001b[0;32m--> 717\u001b[0;31m                          run_metadata_ptr)\n\u001b[0m\u001b[1;32m    718\u001b[0m       \u001b[0;32mif\u001b[0m \u001b[0mrun_metadata\u001b[0m\u001b[0;34m:\u001b[0m\u001b[0;34m\u001b[0m\u001b[0m\n\u001b[1;32m    719\u001b[0m         \u001b[0mproto_data\u001b[0m \u001b[0;34m=\u001b[0m \u001b[0mtf_session\u001b[0m\u001b[0;34m.\u001b[0m\u001b[0mTF_GetBuffer\u001b[0m\u001b[0;34m(\u001b[0m\u001b[0mrun_metadata_ptr\u001b[0m\u001b[0;34m)\u001b[0m\u001b[0;34m\u001b[0m\u001b[0m\n",
      "\u001b[0;32m/home/tom/anaconda2/lib/python2.7/site-packages/tensorflow/python/client/session.pyc\u001b[0m in \u001b[0;36m_run\u001b[0;34m(self, handle, fetches, feed_dict, options, run_metadata)\u001b[0m\n\u001b[1;32m    900\u001b[0m \u001b[0;34m\u001b[0m\u001b[0m\n\u001b[1;32m    901\u001b[0m     \u001b[0;31m# Create a fetch handler to take care of the structure of fetches.\u001b[0m\u001b[0;34m\u001b[0m\u001b[0;34m\u001b[0m\u001b[0m\n\u001b[0;32m--> 902\u001b[0;31m     \u001b[0mfetch_handler\u001b[0m \u001b[0;34m=\u001b[0m \u001b[0m_FetchHandler\u001b[0m\u001b[0;34m(\u001b[0m\u001b[0mself\u001b[0m\u001b[0;34m.\u001b[0m\u001b[0m_graph\u001b[0m\u001b[0;34m,\u001b[0m \u001b[0mfetches\u001b[0m\u001b[0;34m,\u001b[0m \u001b[0mfeed_dict_string\u001b[0m\u001b[0;34m)\u001b[0m\u001b[0;34m\u001b[0m\u001b[0m\n\u001b[0m\u001b[1;32m    903\u001b[0m \u001b[0;34m\u001b[0m\u001b[0m\n\u001b[1;32m    904\u001b[0m     \u001b[0;31m# Run request and get response.\u001b[0m\u001b[0;34m\u001b[0m\u001b[0;34m\u001b[0m\u001b[0m\n",
      "\u001b[0;32m/home/tom/anaconda2/lib/python2.7/site-packages/tensorflow/python/client/session.pyc\u001b[0m in \u001b[0;36m__init__\u001b[0;34m(self, graph, fetches, feeds)\u001b[0m\n\u001b[1;32m    356\u001b[0m     \"\"\"\n\u001b[1;32m    357\u001b[0m     \u001b[0;32mwith\u001b[0m \u001b[0mgraph\u001b[0m\u001b[0;34m.\u001b[0m\u001b[0mas_default\u001b[0m\u001b[0;34m(\u001b[0m\u001b[0;34m)\u001b[0m\u001b[0;34m:\u001b[0m\u001b[0;34m\u001b[0m\u001b[0m\n\u001b[0;32m--> 358\u001b[0;31m       \u001b[0mself\u001b[0m\u001b[0;34m.\u001b[0m\u001b[0m_fetch_mapper\u001b[0m \u001b[0;34m=\u001b[0m \u001b[0m_FetchMapper\u001b[0m\u001b[0;34m.\u001b[0m\u001b[0mfor_fetch\u001b[0m\u001b[0;34m(\u001b[0m\u001b[0mfetches\u001b[0m\u001b[0;34m)\u001b[0m\u001b[0;34m\u001b[0m\u001b[0m\n\u001b[0m\u001b[1;32m    359\u001b[0m     \u001b[0mself\u001b[0m\u001b[0;34m.\u001b[0m\u001b[0m_fetches\u001b[0m \u001b[0;34m=\u001b[0m \u001b[0;34m[\u001b[0m\u001b[0;34m]\u001b[0m\u001b[0;34m\u001b[0m\u001b[0m\n\u001b[1;32m    360\u001b[0m     \u001b[0mself\u001b[0m\u001b[0;34m.\u001b[0m\u001b[0m_targets\u001b[0m \u001b[0;34m=\u001b[0m \u001b[0;34m[\u001b[0m\u001b[0;34m]\u001b[0m\u001b[0;34m\u001b[0m\u001b[0m\n",
      "\u001b[0;32m/home/tom/anaconda2/lib/python2.7/site-packages/tensorflow/python/client/session.pyc\u001b[0m in \u001b[0;36mfor_fetch\u001b[0;34m(fetch)\u001b[0m\n\u001b[1;32m    179\u001b[0m     \u001b[0;32melif\u001b[0m \u001b[0misinstance\u001b[0m\u001b[0;34m(\u001b[0m\u001b[0mfetch\u001b[0m\u001b[0;34m,\u001b[0m \u001b[0;34m(\u001b[0m\u001b[0mlist\u001b[0m\u001b[0;34m,\u001b[0m \u001b[0mtuple\u001b[0m\u001b[0;34m)\u001b[0m\u001b[0;34m)\u001b[0m\u001b[0;34m:\u001b[0m\u001b[0;34m\u001b[0m\u001b[0m\n\u001b[1;32m    180\u001b[0m       \u001b[0;31m# NOTE(touts): This is also the code path for namedtuples.\u001b[0m\u001b[0;34m\u001b[0m\u001b[0;34m\u001b[0m\u001b[0m\n\u001b[0;32m--> 181\u001b[0;31m       \u001b[0;32mreturn\u001b[0m \u001b[0m_ListFetchMapper\u001b[0m\u001b[0;34m(\u001b[0m\u001b[0mfetch\u001b[0m\u001b[0;34m)\u001b[0m\u001b[0;34m\u001b[0m\u001b[0m\n\u001b[0m\u001b[1;32m    182\u001b[0m     \u001b[0;32melif\u001b[0m \u001b[0misinstance\u001b[0m\u001b[0;34m(\u001b[0m\u001b[0mfetch\u001b[0m\u001b[0;34m,\u001b[0m \u001b[0mdict\u001b[0m\u001b[0;34m)\u001b[0m\u001b[0;34m:\u001b[0m\u001b[0;34m\u001b[0m\u001b[0m\n\u001b[1;32m    183\u001b[0m       \u001b[0;32mreturn\u001b[0m \u001b[0m_DictFetchMapper\u001b[0m\u001b[0;34m(\u001b[0m\u001b[0mfetch\u001b[0m\u001b[0;34m)\u001b[0m\u001b[0;34m\u001b[0m\u001b[0m\n",
      "\u001b[0;32m/home/tom/anaconda2/lib/python2.7/site-packages/tensorflow/python/client/session.pyc\u001b[0m in \u001b[0;36m__init__\u001b[0;34m(self, fetches)\u001b[0m\n\u001b[1;32m    286\u001b[0m     \"\"\"\n\u001b[1;32m    287\u001b[0m     \u001b[0mself\u001b[0m\u001b[0;34m.\u001b[0m\u001b[0m_fetch_type\u001b[0m \u001b[0;34m=\u001b[0m \u001b[0mtype\u001b[0m\u001b[0;34m(\u001b[0m\u001b[0mfetches\u001b[0m\u001b[0;34m)\u001b[0m\u001b[0;34m\u001b[0m\u001b[0m\n\u001b[0;32m--> 288\u001b[0;31m     \u001b[0mself\u001b[0m\u001b[0;34m.\u001b[0m\u001b[0m_mappers\u001b[0m \u001b[0;34m=\u001b[0m \u001b[0;34m[\u001b[0m\u001b[0m_FetchMapper\u001b[0m\u001b[0;34m.\u001b[0m\u001b[0mfor_fetch\u001b[0m\u001b[0;34m(\u001b[0m\u001b[0mfetch\u001b[0m\u001b[0;34m)\u001b[0m \u001b[0;32mfor\u001b[0m \u001b[0mfetch\u001b[0m \u001b[0;32min\u001b[0m \u001b[0mfetches\u001b[0m\u001b[0;34m]\u001b[0m\u001b[0;34m\u001b[0m\u001b[0m\n\u001b[0m\u001b[1;32m    289\u001b[0m     \u001b[0mself\u001b[0m\u001b[0;34m.\u001b[0m\u001b[0m_unique_fetches\u001b[0m\u001b[0;34m,\u001b[0m \u001b[0mself\u001b[0m\u001b[0;34m.\u001b[0m\u001b[0m_value_indices\u001b[0m \u001b[0;34m=\u001b[0m \u001b[0m_uniquify_fetches\u001b[0m\u001b[0;34m(\u001b[0m\u001b[0mself\u001b[0m\u001b[0;34m.\u001b[0m\u001b[0m_mappers\u001b[0m\u001b[0;34m)\u001b[0m\u001b[0;34m\u001b[0m\u001b[0m\n\u001b[1;32m    290\u001b[0m \u001b[0;34m\u001b[0m\u001b[0m\n",
      "\u001b[0;32m/home/tom/anaconda2/lib/python2.7/site-packages/tensorflow/python/client/session.pyc\u001b[0m in \u001b[0;36mfor_fetch\u001b[0;34m(fetch)\u001b[0m\n\u001b[1;32m    187\u001b[0m         \u001b[0;32mif\u001b[0m \u001b[0misinstance\u001b[0m\u001b[0;34m(\u001b[0m\u001b[0mfetch\u001b[0m\u001b[0;34m,\u001b[0m \u001b[0mtensor_type\u001b[0m\u001b[0;34m)\u001b[0m\u001b[0;34m:\u001b[0m\u001b[0;34m\u001b[0m\u001b[0m\n\u001b[1;32m    188\u001b[0m           \u001b[0mfetches\u001b[0m\u001b[0;34m,\u001b[0m \u001b[0mcontraction_fn\u001b[0m \u001b[0;34m=\u001b[0m \u001b[0mfetch_fn\u001b[0m\u001b[0;34m(\u001b[0m\u001b[0mfetch\u001b[0m\u001b[0;34m)\u001b[0m\u001b[0;34m\u001b[0m\u001b[0m\n\u001b[0;32m--> 189\u001b[0;31m           \u001b[0;32mreturn\u001b[0m \u001b[0m_ElementFetchMapper\u001b[0m\u001b[0;34m(\u001b[0m\u001b[0mfetches\u001b[0m\u001b[0;34m,\u001b[0m \u001b[0mcontraction_fn\u001b[0m\u001b[0;34m)\u001b[0m\u001b[0;34m\u001b[0m\u001b[0m\n\u001b[0m\u001b[1;32m    190\u001b[0m     \u001b[0;31m# Did not find anything.\u001b[0m\u001b[0;34m\u001b[0m\u001b[0;34m\u001b[0m\u001b[0m\n\u001b[1;32m    191\u001b[0m     raise TypeError('Fetch argument %r has invalid type %r' %\n",
      "\u001b[0;32m/home/tom/anaconda2/lib/python2.7/site-packages/tensorflow/python/client/session.pyc\u001b[0m in \u001b[0;36m__init__\u001b[0;34m(self, fetches, contraction_fn)\u001b[0m\n\u001b[1;32m    220\u001b[0m         raise TypeError('Fetch argument %r has invalid type %r, '\n\u001b[1;32m    221\u001b[0m                         \u001b[0;34m'must be a string or Tensor. (%s)'\u001b[0m\u001b[0;34m\u001b[0m\u001b[0m\n\u001b[0;32m--> 222\u001b[0;31m                         % (fetch, type(fetch), str(e)))\n\u001b[0m\u001b[1;32m    223\u001b[0m       \u001b[0;32mexcept\u001b[0m \u001b[0mValueError\u001b[0m \u001b[0;32mas\u001b[0m \u001b[0me\u001b[0m\u001b[0;34m:\u001b[0m\u001b[0;34m\u001b[0m\u001b[0m\n\u001b[1;32m    224\u001b[0m         raise ValueError('Fetch argument %r cannot be interpreted as a '\n",
      "\u001b[0;31mTypeError\u001b[0m: Fetch argument 4.6305132 has invalid type <type 'numpy.float32'>, must be a string or Tensor. (Can not convert a float32 into a Tensor or Operation.)"
     ]
    }
   ],
   "source": [
    "for i in range(20000):\n",
    "    batch = mnist.train.next_batch(50)\n",
    "\n",
    "    sess.run(optimizer, feed_dict={x: batch[0], y: batch[1], keep_prob: 0.5})\n",
    "\n",
    "    if i%100 == 0:\n",
    "        loss, train_acc = sess.run([loss, accuracy], feed_dict={x: batch[0], y: batch[1], keep_prob: 1.0})\n",
    "        #train_accuracy = accuracy.eval(feed_dict={\n",
    "        #        x:batch[0], y: batch[1], keep_prob: 1.0})\n",
    "        print(\"step %d, Loss %.4f, training accuracy %.2f\"%(i, loss, train_acc))\n",
    "\n",
    "print(\"Test accuracy %g\"%accuracy.eval(feed_dict={\n",
    "            x: mnist.test.images, y: mnist.test.labels, keep_prob: 1.0}))"
   ]
  },
  {
   "cell_type": "code",
   "execution_count": null,
   "metadata": {
    "collapsed": true
   },
   "outputs": [],
   "source": []
  }
 ],
 "metadata": {
  "anaconda-cloud": {},
  "colab": {
   "default_view": {},
   "name": "4_convolutions.ipynb",
   "provenance": [],
   "version": "0.3.2",
   "views": {}
  },
  "kernelspec": {
   "display_name": "Python [default]",
   "language": "python",
   "name": "python2"
  },
  "language_info": {
   "codemirror_mode": {
    "name": "ipython",
    "version": 2
   },
   "file_extension": ".py",
   "mimetype": "text/x-python",
   "name": "python",
   "nbconvert_exporter": "python",
   "pygments_lexer": "ipython2",
   "version": "2.7.12"
  }
 },
 "nbformat": 4,
 "nbformat_minor": 0
}
