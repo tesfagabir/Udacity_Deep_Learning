{
 "cells": [
  {
   "cell_type": "markdown",
   "metadata": {
    "colab_type": "text",
    "id": "kR-4eNdK6lYS",
    "nbpresent": {
     "id": "1a2a0751-ac76-45a5-9274-1868040a572c"
    }
   },
   "source": [
    "Deep Learning\n",
    "=============\n",
    "\n",
    "Assignment 2\n",
    "------------\n",
    "\n",
    "Previously in `1_notmnist.ipynb`, we created a pickle with formatted datasets for training, development and testing on the [notMNIST dataset](http://yaroslavvb.blogspot.com/2011/09/notmnist-dataset.html).\n",
    "\n",
    "The goal of this assignment is to progressively train deeper and more accurate models using TensorFlow."
   ]
  },
  {
   "cell_type": "code",
   "execution_count": 1,
   "metadata": {
    "cellView": "both",
    "colab": {
     "autoexec": {
      "startup": false,
      "wait_interval": 0
     }
    },
    "colab_type": "code",
    "collapsed": true,
    "id": "JLpLa8Jt7Vu4",
    "nbpresent": {
     "id": "db23061b-24bf-41ac-ad26-cd53419e3fd5"
    }
   },
   "outputs": [],
   "source": [
    "# These are all the modules we'll be using later. Make sure you can import them\n",
    "# before proceeding further.\n",
    "from __future__ import print_function\n",
    "import numpy as np\n",
    "import tensorflow as tf\n",
    "from six.moves import cPickle as pickle\n",
    "from six.moves import range"
   ]
  },
  {
   "cell_type": "markdown",
   "metadata": {
    "colab_type": "text",
    "id": "1HrCK6e17WzV",
    "nbpresent": {
     "id": "ac7c48da-541e-4723-8b9d-022430305117"
    }
   },
   "source": [
    "First reload the data we generated in `1_notmnist.ipynb`."
   ]
  },
  {
   "cell_type": "code",
   "execution_count": 2,
   "metadata": {
    "cellView": "both",
    "colab": {
     "autoexec": {
      "startup": false,
      "wait_interval": 0
     },
     "output_extras": [
      {
       "item_id": 1
      }
     ]
    },
    "colab_type": "code",
    "collapsed": false,
    "executionInfo": {
     "elapsed": 19456,
     "status": "ok",
     "timestamp": 1449847956073,
     "user": {
      "color": "",
      "displayName": "",
      "isAnonymous": false,
      "isMe": true,
      "permissionId": "",
      "photoUrl": "",
      "sessionId": "0",
      "userId": ""
     },
     "user_tz": 480
    },
    "id": "y3-cj1bpmuxc",
    "nbpresent": {
     "id": "514b6e45-ee47-4e62-9aea-f2cf8da5d89e"
    },
    "outputId": "0ddb1607-1fc4-4ddb-de28-6c7ab7fb0c33"
   },
   "outputs": [
    {
     "name": "stdout",
     "output_type": "stream",
     "text": [
      "Training set (200000, 28, 28) (200000,)\n",
      "Validation set (10000, 28, 28) (10000,)\n",
      "Test set (10000, 28, 28) (10000,)\n"
     ]
    }
   ],
   "source": [
    "pickle_file = 'notMNIST.pickle'\n",
    "\n",
    "with open(pickle_file, 'rb') as f:\n",
    "  save = pickle.load(f)\n",
    "  train_dataset = save['train_dataset']\n",
    "  train_labels = save['train_labels']\n",
    "  valid_dataset = save['valid_dataset']\n",
    "  valid_labels = save['valid_labels']\n",
    "  test_dataset = save['test_dataset']\n",
    "  test_labels = save['test_labels']\n",
    "  del save  # hint to help gc free up memory\n",
    "  print('Training set', train_dataset.shape, train_labels.shape)\n",
    "  print('Validation set', valid_dataset.shape, valid_labels.shape)\n",
    "  print('Test set', test_dataset.shape, test_labels.shape)"
   ]
  },
  {
   "cell_type": "markdown",
   "metadata": {
    "colab_type": "text",
    "id": "L7aHrm6nGDMB",
    "nbpresent": {
     "id": "27a609c8-bf68-4df1-878f-5fa34754398f"
    }
   },
   "source": [
    "Reformat into a shape that's more adapted to the models we're going to train:\n",
    "- data as a flat matrix,\n",
    "- labels as float 1-hot encodings."
   ]
  },
  {
   "cell_type": "code",
   "execution_count": 3,
   "metadata": {
    "cellView": "both",
    "colab": {
     "autoexec": {
      "startup": false,
      "wait_interval": 0
     },
     "output_extras": [
      {
       "item_id": 1
      }
     ]
    },
    "colab_type": "code",
    "collapsed": false,
    "executionInfo": {
     "elapsed": 19723,
     "status": "ok",
     "timestamp": 1449847956364,
     "user": {
      "color": "",
      "displayName": "",
      "isAnonymous": false,
      "isMe": true,
      "permissionId": "",
      "photoUrl": "",
      "sessionId": "0",
      "userId": ""
     },
     "user_tz": 480
    },
    "id": "IRSyYiIIGIzS",
    "nbpresent": {
     "id": "df5dd47c-38ae-4026-a1f6-99fd84d5b4c2"
    },
    "outputId": "2ba0fc75-1487-4ace-a562-cf81cae82793"
   },
   "outputs": [
    {
     "name": "stdout",
     "output_type": "stream",
     "text": [
      "Training set (200000, 784) (200000, 10)\n",
      "Validation set (10000, 784) (10000, 10)\n",
      "Test set (10000, 784) (10000, 10)\n"
     ]
    }
   ],
   "source": [
    "image_size = 28\n",
    "num_labels = 10\n",
    "\n",
    "def reformat(dataset, labels):\n",
    "  dataset = dataset.reshape((-1, image_size * image_size)).astype(np.float32)\n",
    "  # Map 0 to [1.0, 0.0, 0.0 ...], 1 to [0.0, 1.0, 0.0 ...]\n",
    "  labels = (np.arange(num_labels) == labels[:,None]).astype(np.float32)\n",
    "  return dataset, labels\n",
    "train_dataset, train_labels = reformat(train_dataset, train_labels)\n",
    "valid_dataset, valid_labels = reformat(valid_dataset, valid_labels)\n",
    "test_dataset, test_labels = reformat(test_dataset, test_labels)\n",
    "print('Training set', train_dataset.shape, train_labels.shape)\n",
    "print('Validation set', valid_dataset.shape, valid_labels.shape)\n",
    "print('Test set', test_dataset.shape, test_labels.shape)"
   ]
  },
  {
   "cell_type": "markdown",
   "metadata": {
    "colab_type": "text",
    "id": "nCLVqyQ5vPPH",
    "nbpresent": {
     "id": "16f635be-8f62-46e4-b684-deb35ace71a7"
    }
   },
   "source": [
    "We're first going to train a multinomial logistic regression using simple gradient descent.\n",
    "\n",
    "TensorFlow works like this:\n",
    "* First you describe the computation that you want to see performed: what the inputs, the variables, and the operations look like. These get created as nodes over a computation graph. This description is all contained within the block below:\n",
    "\n",
    "      with graph.as_default():\n",
    "          ...\n",
    "\n",
    "* Then you can run the operations on this graph as many times as you want by calling `session.run()`, providing it outputs to fetch from the graph that get returned. This runtime operation is all contained in the block below:\n",
    "\n",
    "      with tf.Session(graph=graph) as session:\n",
    "          ...\n",
    "\n",
    "Let's load all the data into TensorFlow and build the computation graph corresponding to our training:"
   ]
  },
  {
   "cell_type": "code",
   "execution_count": 4,
   "metadata": {
    "cellView": "both",
    "colab": {
     "autoexec": {
      "startup": false,
      "wait_interval": 0
     }
    },
    "colab_type": "code",
    "collapsed": true,
    "id": "Nfv39qvtvOl_",
    "nbpresent": {
     "id": "79bd2513-f708-4298-9a12-79b62b427899"
    }
   },
   "outputs": [],
   "source": [
    "# With gradient descent training, even this much data is prohibitive.\n",
    "# Subset the training data for faster turnaround.\n",
    "train_subset = 10000\n",
    "\n",
    "graph = tf.Graph()\n",
    "with graph.as_default():\n",
    "\n",
    "    # Input data.\n",
    "    # Load the training, validation and test data into constants that are\n",
    "    # attached to the graph.\n",
    "    tf_train_dataset = tf.constant(train_dataset[:train_subset, :])\n",
    "    tf_train_labels = tf.constant(train_labels[:train_subset])\n",
    "    tf_valid_dataset = tf.constant(valid_dataset)\n",
    "    tf_test_dataset = tf.constant(test_dataset)\n",
    "\n",
    "    # Variables.\n",
    "    # These are the parameters that we are going to be training. The weight\n",
    "    # matrix will be initialized using random values following a (truncated)\n",
    "    # normal distribution. The biases get initialized to zero.\n",
    "    weights = tf.Variable(\n",
    "        tf.truncated_normal([image_size * image_size, num_labels]))\n",
    "    biases = tf.Variable(tf.zeros([num_labels]))\n",
    "\n",
    "    # Training computation.\n",
    "    # We multiply the inputs with the weight matrix, and add biases. We compute\n",
    "    # the softmax and cross-entropy (it's one operation in TensorFlow, because\n",
    "    # it's very common, and it can be optimized). We take the average of this\n",
    "    # cross-entropy across all training examples: that's our loss.\n",
    "    logits = tf.matmul(tf_train_dataset, weights) + biases\n",
    "    loss = tf.reduce_mean(\n",
    "        tf.nn.softmax_cross_entropy_with_logits(logits, tf_train_labels))\n",
    "\n",
    "    # Optimizer.\n",
    "    # We are going to find the minimum of this loss using gradient descent.\n",
    "    optimizer = tf.train.GradientDescentOptimizer(0.5).minimize(loss)\n",
    "\n",
    "    # Predictions for the training, validation, and test data.\n",
    "    # These are not part of training, but merely here so that we can report\n",
    "    # accuracy figures as we train.\n",
    "    train_prediction = tf.nn.softmax(logits)\n",
    "    valid_prediction = tf.nn.softmax(\n",
    "        tf.matmul(tf_valid_dataset, weights) + biases)\n",
    "    test_prediction = tf.nn.softmax(tf.matmul(tf_test_dataset, weights) + biases)"
   ]
  },
  {
   "cell_type": "markdown",
   "metadata": {
    "colab_type": "text",
    "id": "KQcL4uqISHjP",
    "nbpresent": {
     "id": "85b7eeb6-797b-42d1-b761-6fc04de2b1d1"
    }
   },
   "source": [
    "Let's run this computation and iterate:"
   ]
  },
  {
   "cell_type": "code",
   "execution_count": 5,
   "metadata": {
    "cellView": "both",
    "colab": {
     "autoexec": {
      "startup": false,
      "wait_interval": 0
     },
     "output_extras": [
      {
       "item_id": 9
      }
     ]
    },
    "colab_type": "code",
    "collapsed": false,
    "executionInfo": {
     "elapsed": 57454,
     "status": "ok",
     "timestamp": 1449847994134,
     "user": {
      "color": "",
      "displayName": "",
      "isAnonymous": false,
      "isMe": true,
      "permissionId": "",
      "photoUrl": "",
      "sessionId": "0",
      "userId": ""
     },
     "user_tz": 480
    },
    "id": "z2cjdenH869W",
    "nbpresent": {
     "id": "13282c4c-a973-47fd-a126-07e4a8880a81"
    },
    "outputId": "4c037ba1-b526-4d8e-e632-91e2a0333267"
   },
   "outputs": [
    {
     "name": "stdout",
     "output_type": "stream",
     "text": [
      "Initialized\n",
      "Loss at step 0: 17.577484\n",
      "Training accuracy: 8.7%\n",
      "Validation accuracy: 10.5%\n",
      "Loss at step 100: 2.389707\n",
      "Training accuracy: 71.3%\n",
      "Validation accuracy: 70.6%\n",
      "Loss at step 200: 1.903252\n",
      "Training accuracy: 74.3%\n",
      "Validation accuracy: 73.5%\n",
      "Loss at step 300: 1.643704\n",
      "Training accuracy: 75.9%\n",
      "Validation accuracy: 74.4%\n",
      "Loss at step 400: 1.470702\n",
      "Training accuracy: 77.1%\n",
      "Validation accuracy: 75.0%\n",
      "Loss at step 500: 1.343759\n",
      "Training accuracy: 77.8%\n",
      "Validation accuracy: 75.3%\n",
      "Loss at step 600: 1.244538\n",
      "Training accuracy: 78.4%\n",
      "Validation accuracy: 75.7%\n",
      "Loss at step 700: 1.163707\n",
      "Training accuracy: 78.9%\n",
      "Validation accuracy: 75.9%\n",
      "Loss at step 800: 1.096032\n",
      "Training accuracy: 79.4%\n",
      "Validation accuracy: 76.0%\n",
      "Test accuracy: 82.6%\n"
     ]
    }
   ],
   "source": [
    "num_steps = 801\n",
    "\n",
    "def accuracy(predictions, labels):\n",
    "    return (100.0 * np.sum(np.argmax(predictions, 1) == np.argmax(labels, 1))\n",
    "            / predictions.shape[0])\n",
    "\n",
    "with tf.Session(graph=graph) as session:\n",
    "    # This is a one-time operation which ensures the parameters get initialized as\n",
    "    # we described in the graph: random weights for the matrix, zeros for the\n",
    "    # biases. \n",
    "    tf.initialize_all_variables().run()\n",
    "    print('Initialized')\n",
    "    for step in range(num_steps):\n",
    "        # Run the computations. We tell .run() that we want to run the optimizer,\n",
    "        # and get the loss value and the training predictions returned as numpy\n",
    "        # arrays.\n",
    "        _, l, predictions = session.run([optimizer, loss, train_prediction])\n",
    "        if (step % 100 == 0):\n",
    "            print('Loss at step %d: %f' % (step, l))\n",
    "            print('Training accuracy: %.1f%%' % accuracy(\n",
    "                    predictions, train_labels[:train_subset, :]))\n",
    "            # Calling .eval() on valid_prediction is basically like calling run(), but\n",
    "            # just to get that one numpy array. Note that it recomputes all its graph\n",
    "            # dependencies.\n",
    "            print('Validation accuracy: %.1f%%' % accuracy(\n",
    "                    valid_prediction.eval(), valid_labels))\n",
    "    print('Test accuracy: %.1f%%' % accuracy(test_prediction.eval(), test_labels))"
   ]
  },
  {
   "cell_type": "markdown",
   "metadata": {
    "colab_type": "text",
    "id": "x68f-hxRGm3H",
    "nbpresent": {
     "id": "97427bc4-f60e-4416-b0f9-dd222983762d"
    }
   },
   "source": [
    "Let's now switch to stochastic gradient descent training instead, which is much faster.\n",
    "\n",
    "The graph will be similar, except that instead of holding all the training data into a constant node, we create a `Placeholder` node which will be fed actual data at every call of `session.run()`."
   ]
  },
  {
   "cell_type": "code",
   "execution_count": 6,
   "metadata": {
    "cellView": "both",
    "colab": {
     "autoexec": {
      "startup": false,
      "wait_interval": 0
     }
    },
    "colab_type": "code",
    "collapsed": true,
    "id": "qhPMzWYRGrzM",
    "nbpresent": {
     "id": "f807d4b8-ad0e-41d7-91e5-d6104131df7e"
    }
   },
   "outputs": [],
   "source": [
    "batch_size = 128\n",
    "\n",
    "graph = tf.Graph()\n",
    "with graph.as_default():\n",
    "\n",
    "    # Input data. \n",
    "    # For the training data, we use a placeholder that will be fed\n",
    "    # at run time with a training minibatch.\n",
    "    tf_train_dataset = tf.placeholder(tf.float32,\n",
    "                                    shape=(batch_size, image_size * image_size))\n",
    "    tf_train_labels = tf.placeholder(tf.float32, shape=(batch_size, num_labels))\n",
    "    tf_valid_dataset = tf.constant(valid_dataset)\n",
    "    tf_test_dataset = tf.constant(test_dataset)\n",
    "\n",
    "    # Variables.\n",
    "    weights = tf.Variable(\n",
    "        tf.truncated_normal([image_size * image_size, num_labels]))\n",
    "    biases = tf.Variable(tf.zeros([num_labels]))\n",
    "\n",
    "    # Training computation.\n",
    "    logits = tf.matmul(tf_train_dataset, weights) + biases\n",
    "    loss = tf.reduce_mean(\n",
    "    tf.nn.softmax_cross_entropy_with_logits(logits, tf_train_labels))\n",
    "\n",
    "    # Optimizer.\n",
    "    optimizer = tf.train.GradientDescentOptimizer(0.5).minimize(loss)\n",
    "\n",
    "    # Predictions for the training, validation, and test data.\n",
    "    train_prediction = tf.nn.softmax(logits)\n",
    "    valid_prediction = tf.nn.softmax(\n",
    "        tf.matmul(tf_valid_dataset, weights) + biases)\n",
    "    test_prediction = tf.nn.softmax(tf.matmul(tf_test_dataset, weights) + biases)"
   ]
  },
  {
   "cell_type": "markdown",
   "metadata": {
    "colab_type": "text",
    "id": "XmVZESmtG4JH",
    "nbpresent": {
     "id": "a10309ce-cbdf-475d-a83a-a4feded2fde4"
    }
   },
   "source": [
    "Let's run it:"
   ]
  },
  {
   "cell_type": "code",
   "execution_count": 7,
   "metadata": {
    "cellView": "both",
    "colab": {
     "autoexec": {
      "startup": false,
      "wait_interval": 0
     },
     "output_extras": [
      {
       "item_id": 6
      }
     ]
    },
    "colab_type": "code",
    "collapsed": false,
    "executionInfo": {
     "elapsed": 66292,
     "status": "ok",
     "timestamp": 1449848003013,
     "user": {
      "color": "",
      "displayName": "",
      "isAnonymous": false,
      "isMe": true,
      "permissionId": "",
      "photoUrl": "",
      "sessionId": "0",
      "userId": ""
     },
     "user_tz": 480
    },
    "id": "FoF91pknG_YW",
    "nbpresent": {
     "id": "03da2318-af77-427c-921f-6340c444997b"
    },
    "outputId": "d255c80e-954d-4183-ca1c-c7333ce91d0a"
   },
   "outputs": [
    {
     "name": "stdout",
     "output_type": "stream",
     "text": [
      "Initialized\n",
      "Minibatch loss at step 0: 14.466270\n",
      "Minibatch accuracy: 9.4%\n",
      "Validation accuracy: 12.0%\n",
      "Minibatch loss at step 500: 1.542357\n",
      "Minibatch accuracy: 76.6%\n",
      "Validation accuracy: 75.5%\n",
      "Minibatch loss at step 1000: 1.479797\n",
      "Minibatch accuracy: 75.0%\n",
      "Validation accuracy: 76.7%\n",
      "Minibatch loss at step 1500: 1.020707\n",
      "Minibatch accuracy: 82.8%\n",
      "Validation accuracy: 77.0%\n",
      "Minibatch loss at step 2000: 0.926120\n",
      "Minibatch accuracy: 81.2%\n",
      "Validation accuracy: 78.0%\n",
      "Minibatch loss at step 2500: 0.798321\n",
      "Minibatch accuracy: 78.9%\n",
      "Validation accuracy: 78.4%\n",
      "Minibatch loss at step 3000: 1.247908\n",
      "Minibatch accuracy: 75.0%\n",
      "Validation accuracy: 78.8%\n",
      "Test accuracy: 85.7%\n"
     ]
    }
   ],
   "source": [
    "num_steps = 3001\n",
    "\n",
    "with tf.Session(graph=graph) as session:\n",
    "\n",
    "    tf.initialize_all_variables().run()\n",
    "    print(\"Initialized\")\n",
    "    for step in range(num_steps):\n",
    "        # Pick an offset within the training data, which has been randomized.\n",
    "        # Note: we could use better randomization across epochs.\n",
    "        offset = (step * batch_size) % (train_labels.shape[0] - batch_size)\n",
    "        # Generate a minibatch.\n",
    "        batch_data = train_dataset[offset:(offset + batch_size), :]\n",
    "        batch_labels = train_labels[offset:(offset + batch_size), :]\n",
    "        # Prepare a dictionary telling the session where to feed the minibatch.\n",
    "        # The key of the dictionary is the placeholder node of the graph to be fed,\n",
    "        # and the value is the numpy array to feed to it.\n",
    "        feed_dict = {tf_train_dataset : batch_data, tf_train_labels : batch_labels}\n",
    "        _, l, predictions = session.run(\n",
    "          [optimizer, loss, train_prediction], feed_dict=feed_dict)\n",
    "        if (step % 500 == 0):\n",
    "            print(\"Minibatch loss at step %d: %f\" % (step, l))\n",
    "            print(\"Minibatch accuracy: %.1f%%\" % accuracy(predictions, batch_labels))\n",
    "            print(\"Validation accuracy: %.1f%%\" % accuracy(\n",
    "                    valid_prediction.eval(), valid_labels))\n",
    "    print(\"Test accuracy: %.1f%%\" % accuracy(test_prediction.eval(), test_labels))"
   ]
  },
  {
   "cell_type": "markdown",
   "metadata": {
    "colab_type": "text",
    "id": "7omWxtvLLxik",
    "nbpresent": {
     "id": "02866abc-f12b-477a-9928-612f07077877"
    }
   },
   "source": [
    "---\n",
    "Problem\n",
    "-------\n",
    "\n",
    "Turn the logistic regression example with SGD into a 1-hidden layer neural network with rectified linear units [nn.relu()](https://www.tensorflow.org/versions/r0.7/api_docs/python/nn.html#relu) and 1024 hidden nodes. This model should improve your validation / test accuracy.\n",
    "\n",
    "---"
   ]
  },
  {
   "cell_type": "code",
   "execution_count": 8,
   "metadata": {
    "collapsed": true
   },
   "outputs": [],
   "source": [
    "batch_size = 128\n",
    "hidden_units = 1024\n",
    "\n",
    "graph = tf.Graph()\n",
    "with graph.as_default():\n",
    "\n",
    "    # Input data. \n",
    "    # For the training data, we use a placeholder that will be fed\n",
    "    # at run time with a training minibatch.\n",
    "    tf_train_dataset = tf.placeholder(tf.float32,\n",
    "                                      shape=(batch_size, image_size * image_size))\n",
    "    tf_train_labels = tf.placeholder(tf.float32, shape=(batch_size, num_labels))\n",
    "    tf_valid_dataset = tf.constant(valid_dataset)\n",
    "    tf_test_dataset = tf.constant(test_dataset)\n",
    "\n",
    "    # Variables.\n",
    "    # 1. Weights and biases for the input data\n",
    "    weights1 = tf.Variable(\n",
    "        tf.truncated_normal([image_size * image_size, hidden_units]))\n",
    "    biases1 = tf.Variable(tf.zeros([hidden_units]))\n",
    "    # 2. Weights and biases for the hidden layer\n",
    "    weights2 = tf.Variable(\n",
    "        tf.truncated_normal([hidden_units, num_labels]))\n",
    "    biases2 = tf.Variable(tf.zeros([num_labels]))\n",
    "    \n",
    "    # Training computation.\n",
    "    hidden = tf.nn.relu(tf.matmul(tf_train_dataset, weights1) + biases1)\n",
    "    logits = tf.matmul(hidden, weights2) + biases2\n",
    "    loss = tf.reduce_mean(\n",
    "        tf.nn.softmax_cross_entropy_with_logits(logits, tf_train_labels))\n",
    "\n",
    "    # Optimizer.\n",
    "    optimizer = tf.train.GradientDescentOptimizer(0.5).minimize(loss)\n",
    "\n",
    "    # Predictions for the training, validation, and test data.\n",
    "    train_prediction = tf.nn.softmax(logits)\n",
    "    \n",
    "    valid_hidden = tf.nn.relu(tf.matmul(tf_valid_dataset, weights1) + biases1)\n",
    "    valid_logits = tf.matmul(valid_hidden, weights2) + biases2\n",
    "    valid_prediction = tf.nn.softmax(valid_logits)\n",
    "\n",
    "    test_hidden = tf.nn.relu(tf.matmul(tf_test_dataset, weights1) + biases1)\n",
    "    test_logits = tf.matmul(test_hidden, weights2) + biases2\n",
    "    test_prediction = tf.nn.softmax(test_logits)"
   ]
  },
  {
   "cell_type": "code",
   "execution_count": 9,
   "metadata": {
    "collapsed": false
   },
   "outputs": [
    {
     "name": "stdout",
     "output_type": "stream",
     "text": [
      "Initialized\n",
      "Minibatch loss at step 0: 395.392761\n",
      "Minibatch accuracy: 5.5%\n",
      "Validation accuracy: 24.6%\n",
      "Minibatch loss at step 500: 21.377331\n",
      "Minibatch accuracy: 79.7%\n",
      "Validation accuracy: 78.9%\n",
      "Minibatch loss at step 1000: 12.226152\n",
      "Minibatch accuracy: 78.9%\n",
      "Validation accuracy: 80.2%\n",
      "Minibatch loss at step 1500: 2.913013\n",
      "Minibatch accuracy: 85.9%\n",
      "Validation accuracy: 81.7%\n",
      "Minibatch loss at step 2000: 3.921613\n",
      "Minibatch accuracy: 87.5%\n",
      "Validation accuracy: 82.1%\n",
      "Minibatch loss at step 2500: 2.450322\n",
      "Minibatch accuracy: 82.8%\n",
      "Validation accuracy: 82.4%\n",
      "Minibatch loss at step 3000: 2.885360\n",
      "Minibatch accuracy: 82.0%\n",
      "Validation accuracy: 82.1%\n",
      "Test accuracy: 88.2%\n"
     ]
    }
   ],
   "source": [
    "num_steps = 3001\n",
    "\n",
    "with tf.Session(graph=graph) as session:\n",
    "\n",
    "    tf.initialize_all_variables().run()\n",
    "    print(\"Initialized\")\n",
    "    for step in range(num_steps):\n",
    "        # Pick an offset within the training data, which has been randomized.\n",
    "        # Note: we could use better randomization across epochs.\n",
    "        offset = (step * batch_size) % (train_labels.shape[0] - batch_size)\n",
    "        # Generate a minibatch.\n",
    "        batch_data = train_dataset[offset:(offset + batch_size), :]\n",
    "        batch_labels = train_labels[offset:(offset + batch_size), :]\n",
    "        # Prepare a dictionary telling the session where to feed the minibatch.\n",
    "        # The key of the dictionary is the placeholder node of the graph to be fed,\n",
    "        # and the value is the numpy array to feed to it.\n",
    "        feed_dict = {tf_train_dataset : batch_data, tf_train_labels : batch_labels}\n",
    "        _, l, predictions = session.run(\n",
    "          [optimizer, loss, train_prediction], feed_dict=feed_dict)\n",
    "        if (step % 500 == 0):\n",
    "            print(\"Minibatch loss at step %d: %f\" % (step, l))\n",
    "            print(\"Minibatch accuracy: %.1f%%\" % accuracy(predictions, batch_labels))\n",
    "            print(\"Validation accuracy: %.1f%%\" % accuracy(\n",
    "                    valid_prediction.eval(), valid_labels))\n",
    "    print(\"Test accuracy: %.1f%%\" % accuracy(test_prediction.eval(), test_labels))"
   ]
  },
  {
   "cell_type": "markdown",
   "metadata": {
    "collapsed": true
   },
   "source": [
    "As can be seen from the above results, the validation/test accuracy of the model with hidden layer and relu is higher than that of the previous one without it."
   ]
  },
  {
   "cell_type": "code",
   "execution_count": null,
   "metadata": {
    "collapsed": true
   },
   "outputs": [],
   "source": []
  }
 ],
 "metadata": {
  "anaconda-cloud": {},
  "colab": {
   "default_view": {},
   "name": "2_fullyconnected.ipynb",
   "provenance": [],
   "version": "0.3.2",
   "views": {}
  },
  "kernelspec": {
   "display_name": "Python [default]",
   "language": "python",
   "name": "python2"
  },
  "language_info": {
   "codemirror_mode": {
    "name": "ipython",
    "version": 2
   },
   "file_extension": ".py",
   "mimetype": "text/x-python",
   "name": "python",
   "nbconvert_exporter": "python",
   "pygments_lexer": "ipython2",
   "version": "2.7.12"
  },
  "nbpresent": {
   "slides": {
    "156c0a53-de9b-49b9-92f8-d0850b53f1d0": {
     "id": "156c0a53-de9b-49b9-92f8-d0850b53f1d0",
     "prev": "7ca8cbdd-0bfb-4515-860e-24b1fbe06465",
     "regions": {
      "553537cd-d35f-48e6-b137-d7e6884ab894": {
       "attrs": {
        "height": 0.8,
        "width": 0.8,
        "x": 0.1,
        "y": 0.1
       },
       "content": {
        "cell": "ac7c48da-541e-4723-8b9d-022430305117",
        "part": "whole"
       },
       "id": "553537cd-d35f-48e6-b137-d7e6884ab894"
      }
     }
    },
    "34a39bff-faaf-4d69-9399-8bc679fbb742": {
     "id": "34a39bff-faaf-4d69-9399-8bc679fbb742",
     "prev": "59be82dc-4e2b-480f-bbef-13a9c32ff251",
     "regions": {
      "e671d32a-a263-4903-a8fd-280dab7aa150": {
       "attrs": {
        "height": 0.8,
        "width": 0.8,
        "x": 0.1,
        "y": 0.1
       },
       "content": {
        "cell": "f807d4b8-ad0e-41d7-91e5-d6104131df7e",
        "part": "whole"
       },
       "id": "e671d32a-a263-4903-a8fd-280dab7aa150"
      }
     }
    },
    "365f2610-527a-492d-94fd-667f68550f56": {
     "id": "365f2610-527a-492d-94fd-667f68550f56",
     "prev": "c00627c0-d679-4fa7-a1a7-a2a6449b761f",
     "regions": {
      "3c7d080b-8e1b-43f0-8eba-59c4e9a50a20": {
       "attrs": {
        "height": 0.8,
        "width": 0.8,
        "x": 0.1,
        "y": 0.1
       },
       "content": {
        "cell": "13282c4c-a973-47fd-a126-07e4a8880a81",
        "part": "whole"
       },
       "id": "3c7d080b-8e1b-43f0-8eba-59c4e9a50a20"
      }
     }
    },
    "59be82dc-4e2b-480f-bbef-13a9c32ff251": {
     "id": "59be82dc-4e2b-480f-bbef-13a9c32ff251",
     "prev": "365f2610-527a-492d-94fd-667f68550f56",
     "regions": {
      "87f950c6-02c7-40ad-a470-6350289b705e": {
       "attrs": {
        "height": 0.8,
        "width": 0.8,
        "x": 0.1,
        "y": 0.1
       },
       "content": {
        "cell": "97427bc4-f60e-4416-b0f9-dd222983762d",
        "part": "whole"
       },
       "id": "87f950c6-02c7-40ad-a470-6350289b705e"
      }
     }
    },
    "5fe3a0c5-d615-45ea-9d85-f1e23728e6d0": {
     "id": "5fe3a0c5-d615-45ea-9d85-f1e23728e6d0",
     "prev": "f201e83e-3fca-4744-b3b8-b1f8c737d473",
     "regions": {
      "96a7b918-832b-493c-abb3-78af7d927128": {
       "attrs": {
        "height": 0.8,
        "width": 0.8,
        "x": 0.1,
        "y": 0.1
       },
       "content": {
        "cell": "16f635be-8f62-46e4-b684-deb35ace71a7",
        "part": "whole"
       },
       "id": "96a7b918-832b-493c-abb3-78af7d927128"
      }
     }
    },
    "71218b2a-5c98-4897-8852-645aff331a10": {
     "id": "71218b2a-5c98-4897-8852-645aff331a10",
     "prev": "156c0a53-de9b-49b9-92f8-d0850b53f1d0",
     "regions": {
      "56ee7bdd-8004-48ca-a7fe-9bfd57485e63": {
       "attrs": {
        "height": 0.8,
        "width": 0.8,
        "x": 0.1,
        "y": 0.1
       },
       "content": {
        "cell": "514b6e45-ee47-4e62-9aea-f2cf8da5d89e",
        "part": "whole"
       },
       "id": "56ee7bdd-8004-48ca-a7fe-9bfd57485e63"
      }
     }
    },
    "774addf5-cbc2-4d14-a4c6-60ad962e7d28": {
     "id": "774addf5-cbc2-4d14-a4c6-60ad962e7d28",
     "prev": "71218b2a-5c98-4897-8852-645aff331a10",
     "regions": {
      "724ea555-51be-474f-b942-df89bafc6a60": {
       "attrs": {
        "height": 0.8,
        "width": 0.8,
        "x": 0.1,
        "y": 0.1
       },
       "content": {
        "cell": "27a609c8-bf68-4df1-878f-5fa34754398f",
        "part": "whole"
       },
       "id": "724ea555-51be-474f-b942-df89bafc6a60"
      }
     }
    },
    "7ca8cbdd-0bfb-4515-860e-24b1fbe06465": {
     "id": "7ca8cbdd-0bfb-4515-860e-24b1fbe06465",
     "prev": "a400726c-197a-4461-8fad-f9271bdd9373",
     "regions": {
      "460edb27-0174-4afc-9cfb-ab7673b052de": {
       "attrs": {
        "height": 0.8,
        "width": 0.8,
        "x": 0.1,
        "y": 0.1
       },
       "content": {
        "cell": "db23061b-24bf-41ac-ad26-cd53419e3fd5",
        "part": "whole"
       },
       "id": "460edb27-0174-4afc-9cfb-ab7673b052de"
      }
     }
    },
    "8f60f562-26e5-4b1d-a149-bef0ee600be8": {
     "id": "8f60f562-26e5-4b1d-a149-bef0ee600be8",
     "prev": "e6134545-3025-41fc-a484-e7692d69f62c",
     "regions": {
      "71ff41dd-6a46-4cf8-a04d-fae4c7dfb47d": {
       "attrs": {
        "height": 0.8,
        "width": 0.8,
        "x": 0.1,
        "y": 0.1
       },
       "content": {
        "cell": "02866abc-f12b-477a-9928-612f07077877",
        "part": "whole"
       },
       "id": "71ff41dd-6a46-4cf8-a04d-fae4c7dfb47d"
      }
     }
    },
    "a2aac98e-83f7-41a3-b7a3-8f06ccb5989d": {
     "id": "a2aac98e-83f7-41a3-b7a3-8f06ccb5989d",
     "prev": "34a39bff-faaf-4d69-9399-8bc679fbb742",
     "regions": {
      "40fd4a43-6fd3-4507-914c-662fc700dea1": {
       "attrs": {
        "height": 0.8,
        "width": 0.8,
        "x": 0.1,
        "y": 0.1
       },
       "content": {
        "cell": "a10309ce-cbdf-475d-a83a-a4feded2fde4",
        "part": "whole"
       },
       "id": "40fd4a43-6fd3-4507-914c-662fc700dea1"
      }
     }
    },
    "a400726c-197a-4461-8fad-f9271bdd9373": {
     "id": "a400726c-197a-4461-8fad-f9271bdd9373",
     "prev": null,
     "regions": {}
    },
    "c00627c0-d679-4fa7-a1a7-a2a6449b761f": {
     "id": "c00627c0-d679-4fa7-a1a7-a2a6449b761f",
     "prev": "f3b5bb4e-db15-4e3e-9edf-0d9b1570e56b",
     "regions": {
      "6cbe98ad-87de-4024-a5bd-73f50a40fd22": {
       "attrs": {
        "height": 0.8,
        "width": 0.8,
        "x": 0.1,
        "y": 0.1
       },
       "content": {
        "cell": "85b7eeb6-797b-42d1-b761-6fc04de2b1d1",
        "part": "whole"
       },
       "id": "6cbe98ad-87de-4024-a5bd-73f50a40fd22"
      }
     }
    },
    "e6134545-3025-41fc-a484-e7692d69f62c": {
     "id": "e6134545-3025-41fc-a484-e7692d69f62c",
     "prev": "a2aac98e-83f7-41a3-b7a3-8f06ccb5989d",
     "regions": {
      "4664acdb-3534-4ed9-bd66-3e40094320ae": {
       "attrs": {
        "height": 0.8,
        "width": 0.8,
        "x": 0.1,
        "y": 0.1
       },
       "content": {
        "cell": "03da2318-af77-427c-921f-6340c444997b",
        "part": "whole"
       },
       "id": "4664acdb-3534-4ed9-bd66-3e40094320ae"
      }
     }
    },
    "f201e83e-3fca-4744-b3b8-b1f8c737d473": {
     "id": "f201e83e-3fca-4744-b3b8-b1f8c737d473",
     "prev": "774addf5-cbc2-4d14-a4c6-60ad962e7d28",
     "regions": {
      "f36cdd17-d997-43c2-8a54-4360e5fe6ddb": {
       "attrs": {
        "height": 0.8,
        "width": 0.8,
        "x": 0.1,
        "y": 0.1
       },
       "content": {
        "cell": "df5dd47c-38ae-4026-a1f6-99fd84d5b4c2",
        "part": "whole"
       },
       "id": "f36cdd17-d997-43c2-8a54-4360e5fe6ddb"
      }
     }
    },
    "f3b5bb4e-db15-4e3e-9edf-0d9b1570e56b": {
     "id": "f3b5bb4e-db15-4e3e-9edf-0d9b1570e56b",
     "prev": "5fe3a0c5-d615-45ea-9d85-f1e23728e6d0",
     "regions": {
      "aee28d9f-f707-49ae-8716-d8fa0cd1bc2c": {
       "attrs": {
        "height": 0.8,
        "width": 0.8,
        "x": 0.1,
        "y": 0.1
       },
       "content": {
        "cell": "79bd2513-f708-4298-9a12-79b62b427899",
        "part": "whole"
       },
       "id": "aee28d9f-f707-49ae-8716-d8fa0cd1bc2c"
      }
     }
    }
   },
   "themes": {}
  }
 },
 "nbformat": 4,
 "nbformat_minor": 0
}
